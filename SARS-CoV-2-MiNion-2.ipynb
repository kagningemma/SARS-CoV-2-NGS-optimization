{
 "cells": [
  {
   "cell_type": "markdown",
   "metadata": {},
   "source": [
    "### nCoV-2019 novel coronavirus bioinformatics protocol-MINION at the virology department of Tohoku University Graduate School of Medicine"
   ]
  },
  {
   "cell_type": "markdown",
   "metadata": {},
   "source": [
    "Version 0.1\n",
    "Author: Emmanuel"
   ]
  },
  {
   "cell_type": "markdown",
   "metadata": {},
   "source": [
    "We analyze the data obtained from MiNion (FLO-MIN106DR9). The NGS MiNion sequencing library was prepared according to the laboratory protocol described here https://www.protocols.io/view/ncov-2019-sequencing-protocol-v3-locost-bh42j8ye"
   ]
  },
  {
   "cell_type": "markdown",
   "metadata": {},
   "source": [
    "### 1-Perform nanopore sequencing without basecalling"
   ]
  },
  {
   "cell_type": "markdown",
   "metadata": {},
   "source": [
    "### 2-Transfer the fast5 data to the workstation (it has more computing power for basecalling)"
   ]
  },
  {
   "cell_type": "markdown",
   "metadata": {},
   "source": [
    "### 3-Perform basecalling using Guppy and the GPU. The basecalling generates fasta reads from the fast5 signal input data"
   ]
  },
  {
   "cell_type": "code",
   "execution_count": 5,
   "metadata": {},
   "outputs": [],
   "source": [
    "%%bash\n",
    "cd /opt/ont/guppy/bin  # navigate to guppy directory"
   ]
  },
  {
   "cell_type": "code",
   "execution_count": null,
   "metadata": {},
   "outputs": [],
   "source": [
    "%%bash\n",
    "guppy_basecaller -i /media/viro102/HDPH-UT1/CORONA/Pilot_SARS_Cov2_20201217/Pilot_SARS-Cov2_20201217/20201217_0712_MN26707_FAL13903_4c35086e/fast5\\\n",
    "-s /media/viro102/HDPH-UT1/CORONA/Pilot_SARS_Cov2_20201217/basecalled\\\n",
    "--flowcell FLO-MIN106 \\\n",
    "--kit SQK-LSK109\\\n",
    "--device cuda:all:100%\n",
    "# instead of --device cuda:all:100%, we could also use the argument  -x 'CUDA:0'"
   ]
  },
  {
   "cell_type": "code",
   "execution_count": 36,
   "metadata": {},
   "outputs": [],
   "source": [
    "%%bash\n",
    "cd /media/viro102/HDPH-UT1/CORONA/Pilot_SARS_Cov2_20201217/basecalled"
   ]
  },
  {
   "cell_type": "code",
   "execution_count": 40,
   "metadata": {},
   "outputs": [],
   "source": [
    " ls # to see basecalled reads files"
   ]
  },
  {
   "cell_type": "markdown",
   "metadata": {},
   "source": [
    "### 4-Perform reads demultiplexing "
   ]
  },
  {
   "cell_type": "code",
   "execution_count": null,
   "metadata": {},
   "outputs": [],
   "source": [
    "%%bash\n",
    "guppy_barcoder --require_barcodes_both_ends -i /media/viro102/HDPH-UT1/CORONA/Pilot_SARS_Cov2_20201217/basecalled -s /media/viro102/HDPH-UT1/CORONA/Pilot_SARS_Cov2_20201217/demultiplexed"
   ]
  },
  {
   "cell_type": "code",
   "execution_count": 14,
   "metadata": {},
   "outputs": [],
   "source": [
    "%%bash\n",
    "cd /media/viro102/HDPH-UT1/CORONA/Pilot_SARS_Cov2_20201217/demultiplexed"
   ]
  },
  {
   "cell_type": "code",
   "execution_count": 20,
   "metadata": {},
   "outputs": [
    {
     "name": "stdout",
     "output_type": "stream",
     "text": [
      "total 4519572\n",
      "drwxrwxrwx 1 viro102 viro102     139264 12月 23 10:14 \u001b[0m\u001b[34;42mbarcode01\u001b[0m/\n",
      "drwxrwxrwx 1 viro102 viro102     172032 12月 23 10:14 \u001b[34;42mbarcode02\u001b[0m/\n",
      "drwxrwxrwx 1 viro102 viro102      94208 12月 23 10:14 \u001b[34;42mbarcode03\u001b[0m/\n",
      "drwxrwxrwx 1 viro102 viro102     143360 12月 23 10:14 \u001b[34;42mbarcode04\u001b[0m/\n",
      "drwxrwxrwx 1 viro102 viro102     147456 12月 23 10:14 \u001b[34;42mbarcode05\u001b[0m/\n",
      "drwxrwxrwx 1 viro102 viro102     102400 12月 23 10:14 \u001b[34;42mbarcode06\u001b[0m/\n",
      "drwxrwxrwx 1 viro102 viro102     147456 12月 23 10:14 \u001b[34;42mbarcode07\u001b[0m/\n",
      "drwxrwxrwx 1 viro102 viro102     106496 12月 23 10:14 \u001b[34;42mbarcode08\u001b[0m/\n",
      "drwxrwxrwx 1 viro102 viro102     114688 12月 23 10:14 \u001b[34;42mbarcode09\u001b[0m/\n",
      "drwxrwxrwx 1 viro102 viro102      49152 12月 23 10:14 \u001b[34;42mbarcode10\u001b[0m/\n",
      "drwxrwxrwx 1 viro102 viro102          0 12月 23 10:14 \u001b[34;42mbarcode11\u001b[0m/\n",
      "drwxrwxrwx 1 viro102 viro102          0 12月 23 10:14 \u001b[34;42mbarcode12\u001b[0m/\n",
      "drwxrwxrwx 1 viro102 viro102          0 12月 23 10:14 \u001b[34;42mbarcode15\u001b[0m/\n",
      "drwxrwxrwx 1 viro102 viro102          0 12月 23 10:14 \u001b[34;42mbarcode16\u001b[0m/\n",
      "drwxrwxrwx 1 viro102 viro102          0 12月 23 10:14 \u001b[34;42mbarcode26\u001b[0m/\n",
      "drwxrwxrwx 1 viro102 viro102          0 12月 23 10:14 \u001b[34;42mbarcode27\u001b[0m/\n",
      "drwxrwxrwx 1 viro102 viro102          0 12月 23 10:14 \u001b[34;42mbarcode29\u001b[0m/\n",
      "drwxrwxrwx 1 viro102 viro102          0 12月 23 10:14 \u001b[34;42mbarcode32\u001b[0m/\n",
      "drwxrwxrwx 1 viro102 viro102          0 12月 23 10:14 \u001b[34;42mbarcode35\u001b[0m/\n",
      "drwxrwxrwx 1 viro102 viro102          0 12月 23 10:14 \u001b[34;42mbarcode49\u001b[0m/\n",
      "drwxrwxrwx 1 viro102 viro102          0 12月 23 10:14 \u001b[34;42mbarcode70\u001b[0m/\n",
      "drwxrwxrwx 1 viro102 viro102          0 12月 23 10:14 \u001b[34;42mbarcode71\u001b[0m/\n",
      "drwxrwxrwx 1 viro102 viro102          0 12月 23 10:14 \u001b[34;42mbarcode76\u001b[0m/\n",
      "drwxrwxrwx 1 viro102 viro102          0 12月 23 10:14 \u001b[34;42mbarcode78\u001b[0m/\n",
      "drwxrwxrwx 1 viro102 viro102          0 12月 23 10:14 \u001b[34;42mbarcode83\u001b[0m/\n",
      "drwxrwxrwx 1 viro102 viro102          0 12月 23 10:14 \u001b[34;42mbarcode89\u001b[0m/\n",
      "drwxrwxrwx 1 viro102 viro102          0 12月 23 10:14 \u001b[34;42mbarcode95\u001b[0m/\n",
      "-rwxrwxrwx 1 viro102 viro102 4624711361 12月 23 10:14 \u001b[01;32mbarcoding_summary.txt\u001b[0m*\n",
      "-rwxrwxrwx 1 viro102 viro102    1651058 12月 23 10:14 \u001b[01;32mread_processor_log-2020-12-22_09-28-42.log\u001b[0m*\n",
      "drwxrwxrwx 1 viro102 viro102     458752 12月 23 10:14 \u001b[34;42munclassified\u001b[0m/\n"
     ]
    }
   ],
   "source": [
    "ls -l # We have successfully demultiplexed reads\n",
    "# each folder corresponds to a sample. "
   ]
  },
  {
   "cell_type": "markdown",
   "metadata": {},
   "source": [
    "### 5-Quality control "
   ]
  },
  {
   "cell_type": "markdown",
   "metadata": {},
   "source": [
    "#### Using pycoQC"
   ]
  },
  {
   "cell_type": "code",
   "execution_count": null,
   "metadata": {},
   "outputs": [],
   "source": [
    "# the pycoQC installation instructions are here https://adrienleger.com/pycoQC/pycoQC/CLI_usage/\n",
    "# in this example,i am using an old version\n",
    "\n",
    "# open terminal and run following commands:\n",
    "# cd /media/viro102/HDPH-UT1/CORONA/Pilot_SARS_Cov2_20201217/QC\n",
    "# conda activate pycoQC\n",
    "# pycoQC -h\n",
    "# pycoQC --summary_file /media/viro102/HDPH-UT1/CORONA/Pilot_SARS_Cov2_20201217/basecalled/sequencing_summary.txt --barcode_file /media/viro102/HDPH-UT1/CORONA/Pilot_SARS_Cov2_20201217/demultiplexed/barcoding_summary.txt  --html_outfile pycoQC_SARS-Cov2_20201217/20201217_output.html --report_title QC_summary_of_pilot_SARSCoV2_Sequencing_and_optimization\n",
    "\n",
    "# open the html output file in a browser"
   ]
  },
  {
   "cell_type": "markdown",
   "metadata": {},
   "source": [
    "#### using MINIONQC in R"
   ]
  },
  {
   "cell_type": "code",
   "execution_count": 1,
   "metadata": {},
   "outputs": [],
   "source": [
    "# In the terminal run the following commands:\n",
    "# cd /media/viro102/HDPH-UT1/CORONA/bioinformatics/software/minion_qc-master\n",
    "# Rscript MinIONQC.R -i example_input_minion -o my_example_output_minion -p 2 \n",
    "# Rscript MinIONQC.R -i /media/viro102/HDPH-UT1/CORONA/Pilot_SARS_Cov2_20201217/basecalled/ -o my_example_output_minion -p 12 "
   ]
  },
  {
   "cell_type": "markdown",
   "metadata": {},
   "source": [
    "### 6-Reads filtering"
   ]
  },
  {
   "cell_type": "markdown",
   "metadata": {},
   "source": [
    "Because PCR protocol and sequencing process can generate chimeric/erroneous reads, we perform length filtering. This step is performed for each barcode in the run. We first collect all the FASTQ files (typically stored in files each containing 4000 reads) into a single file. To collect and filter the reads for barcode01, we would run:"
   ]
  },
  {
   "cell_type": "code",
   "execution_count": 5,
   "metadata": {},
   "outputs": [
    {
     "name": "stderr",
     "output_type": "stream",
     "text": [
      "UsageError: %%bash is a cell magic, but the cell body is empty.\n"
     ]
    }
   ],
   "source": [
    "%%bash\n",
    "artic guppyplex  --min-length 300 --max-length 500 --d /media/viro102/HDPH-UT1/CORONA/Pilot_SARS_Cov2_20201217/demultiplexed/barcode01 --output /media/viro102/HDPH-UT1/CORONA/Pilot_SARS_Cov2_20201217/filtered/barcode01 --prefix Pilot_SARS-Cov2_20201217"
   ]
  },
  {
   "cell_type": "code",
   "execution_count": 6,
   "metadata": {},
   "outputs": [
    {
     "name": "stdout",
     "output_type": "stream",
     "text": [
      "/media/viro102/HDPH-UT1/CORONA/Pilot_SARS_Cov2_20201217/filtered/barcode02\t481302\n"
     ]
    },
    {
     "name": "stderr",
     "output_type": "stream",
     "text": [
      "Processing 417 files in /media/viro102/HDPH-UT1/CORONA/Pilot_SARS_Cov2_20201217/demultiplexed/barcode02\n"
     ]
    }
   ],
   "source": [
    "%%bash\n",
    "artic guppyplex  --min-length 300 --max-length 500 --d /media/viro102/HDPH-UT1/CORONA/Pilot_SARS_Cov2_20201217/demultiplexed/barcode02 --output /media/viro102/HDPH-UT1/CORONA/Pilot_SARS_Cov2_20201217/filtered/barcode02 --prefix Pilot_SARS-Cov2_20201217"
   ]
  },
  {
   "cell_type": "code",
   "execution_count": null,
   "metadata": {},
   "outputs": [],
   "source": [
    "%%bash\n",
    "artic guppyplex  --min-length 300 --max-length 500 --d /media/viro102/HDPH-UT1/CORONA/Pilot_SARS_Cov2_20201217/demultiplexed/barcode03 --output /media/viro102/HDPH-UT1/CORONA/Pilot_SARS_Cov2_20201217/filtered/barcode03.fastq --prefix Pilot_SARS-Cov2_20201217\n",
    "artic guppyplex  --min-length 300 --max-length 500 --d /media/viro102/HDPH-UT1/CORONA/Pilot_SARS_Cov2_20201217/demultiplexed/barcode04 --output /media/viro102/HDPH-UT1/CORONA/Pilot_SARS_Cov2_20201217/filtered/barcode04.fastq --prefix Pilot_SARS-Cov2_20201217\n",
    "artic guppyplex  --min-length 300 --max-length 500 --d /media/viro102/HDPH-UT1/CORONA/Pilot_SARS_Cov2_20201217/demultiplexed/barcode05 --output /media/viro102/HDPH-UT1/CORONA/Pilot_SARS_Cov2_20201217/filtered/barcode05.fastq --prefix Pilot_SARS-Cov2_20201217\n",
    "artic guppyplex  --min-length 300 --max-length 500 --d /media/viro102/HDPH-UT1/CORONA/Pilot_SARS_Cov2_20201217/demultiplexed/barcode06 --output /media/viro102/HDPH-UT1/CORONA/Pilot_SARS_Cov2_20201217/filtered/barcode06.fastq --prefix Pilot_SARS-Cov2_20201217\n",
    "artic guppyplex  --min-length 300 --max-length 500 --d /media/viro102/HDPH-UT1/CORONA/Pilot_SARS_Cov2_20201217/demultiplexed/barcode07 --output /media/viro102/HDPH-UT1/CORONA/Pilot_SARS_Cov2_20201217/filtered/barcode07.fastq --prefix Pilot_SARS-Cov2_20201217\n",
    "artic guppyplex  --min-length 300 --max-length 500 --d /media/viro102/HDPH-UT1/CORONA/Pilot_SARS_Cov2_20201217/demultiplexed/barcode08 --output /media/viro102/HDPH-UT1/CORONA/Pilot_SARS_Cov2_20201217/filtered/barcode08.fastq --prefix Pilot_SARS-Cov2_20201217\n",
    "artic guppyplex  --min-length 300 --max-length 500 --d /media/viro102/HDPH-UT1/CORONA/Pilot_SARS_Cov2_20201217/demultiplexed/barcode09 --output /media/viro102/HDPH-UT1/CORONA/Pilot_SARS_Cov2_20201217/filtered/barcode09.fastq --prefix Pilot_SARS-Cov2_20201217\n",
    "artic guppyplex  --min-length 300 --max-length 500 --d /media/viro102/HDPH-UT1/CORONA/Pilot_SARS_Cov2_20201217/demultiplexed/barcode10 --output /media/viro102/HDPH-UT1/CORONA/Pilot_SARS_Cov2_20201217/filtered/barcode10.fastq --prefix Pilot_SARS-Cov2_20201217\n",
    "# artic guppyplex  --min-length 300 --max-length 500 --d /media/viro102/HDPH-UT1/CORONA/Pilot_SARS_Cov2_20201217/demultiplexed/barcode11 --output /media/viro102/HDPH-UT1/CORONA/Pilot_SARS_Cov2_20201217/filtered/barcode11.fq --prefix Pilot_SARS-Cov2_20201217"
   ]
  },
  {
   "cell_type": "markdown",
   "metadata": {},
   "source": [
    "### 7. ARTIC minION pipeline for each sample (https://artic.readthedocs.io/en/latest/minion/)"
   ]
  },
  {
   "cell_type": "code",
   "execution_count": 16,
   "metadata": {
    "scrolled": true
   },
   "outputs": [
    {
     "name": "stdout",
     "output_type": "stream",
     "text": [
      "Found primer binding site mismatch: {}\n"
     ]
    },
    {
     "name": "stderr",
     "output_type": "stream",
     "text": [
      "[readdb] indexing /media/viro102/HDPH-UT1/CORONA/Pilot_SARS_Cov2_20201217/Pilot_SARS-Cov2_20201217/20201217_0712_MN26707_FAL13903_4c35086e/fast5\n",
      "[readdb] num reads: 371245, num reads with path to fast5: 371245\n",
      "[M::mm_idx_gen::0.005*1.48] collected minimizers\n",
      "[M::mm_idx_gen::0.010*2.95] sorted minimizers\n",
      "[M::main::0.010*2.94] loaded/built the index for 1 target sequence(s)\n",
      "[M::mm_mapopt_update::0.010*2.84] mid_occ = 3\n",
      "[M::mm_idx_stat] kmer size: 15; skip: 10; is_hpc: 0; #seq: 1\n",
      "[M::mm_idx_stat::0.011*2.76] distinct minimizers: 5587 (99.93% are singletons); average occurrences: 1.004; average spacing: 5.332\n",
      "[M::worker_pipeline::26.377*4.66] mapped 371245 sequences\n",
      "[M::main] Version: 2.17-r941\n",
      "[M::main] CMD: minimap2 -a -x map-ont -t 12 /media/viro102/HDPH-UT1/CORONA/bioinformatics/software/artic-ncov2019/primer_schemes/nCoV-2019/V3/nCoV-2019.reference.fasta barcode01.fastq\n",
      "[M::main] Real time: 26.381 sec; CPU: 122.938 sec; Peak RSS: 0.497 GB\n",
      "[post-run summary] total reads: 34710, unparseable: 0, qc fail: 21, could not calibrate: 7, no alignment: 162, bad fast5: 0\n",
      "[post-run summary] total reads: 37275, unparseable: 0, qc fail: 29, could not calibrate: 7, no alignment: 158, bad fast5: 0\n",
      "Note: the --sample option not given, applying all records regardless of the genotype\n",
      "Applied 4 variants\n",
      "\n",
      "MUSCLE v3.8.1551 by Robert C. Edgar\n",
      "\n",
      "http://www.drive5.com/muscle\n",
      "This software is donated to the public domain.\n",
      "Please cite: Edgar, R.C. Nucleic Acids Res 32(5), 1792-97.\n",
      "\n",
      "sample1.2-61.muscle.in 2 seqs, lengths min 29886, max 29903, avg 29894\n",
      "00:00:00    20 MB(-1%)  Iter   1  100.00%  K-mer dist pass 1\n",
      "00:00:00    20 MB(-1%)  Iter   1  100.00%  K-mer dist pass 2\n",
      "00:00:26  1003 MB(-67%)  Iter   1  100.00%  Align node      \n",
      "00:00:26  1003 MB(-67%)  Iter   1  100.00%  Root alignment\n",
      "Running: nanopolish index -s /media/viro102/HDPH-UT1/CORONA/Pilot_SARS_Cov2_20201217/basecalled/sequencing_summary.txt -d /media/viro102/HDPH-UT1/CORONA/Pilot_SARS_Cov2_20201217/Pilot_SARS-Cov2_20201217/20201217_0712_MN26707_FAL13903_4c35086e/fast5 barcode01.fastq\n",
      "Running: minimap2 -a -x map-ont -t 12 /media/viro102/HDPH-UT1/CORONA/bioinformatics/software/artic-ncov2019/primer_schemes/nCoV-2019/V3/nCoV-2019.reference.fasta barcode01.fastq | samtools view -bS -F 4 - | samtools sort -o sample1.2-61.sorted.bam -\n",
      "Running: samtools index sample1.2-61.sorted.bam\n",
      "Running: align_trim --start --normalise 200 /media/viro102/HDPH-UT1/CORONA/bioinformatics/software/artic-ncov2019/primer_schemes/nCoV-2019/V3/nCoV-2019.scheme.bed --report sample1.2-61.alignreport.txt < sample1.2-61.sorted.bam 2> sample1.2-61.alignreport.er | samtools sort -T sample1.2-61 - -o sample1.2-61.trimmed.rg.sorted.bam\n",
      "Running: align_trim --normalise 200 /media/viro102/HDPH-UT1/CORONA/bioinformatics/software/artic-ncov2019/primer_schemes/nCoV-2019/V3/nCoV-2019.scheme.bed --remove-incorrect-pairs --report sample1.2-61.alignreport.txt < sample1.2-61.sorted.bam 2> sample1.2-61.alignreport.er | samtools sort -T sample1.2-61 - -o sample1.2-61.primertrimmed.rg.sorted.bam\n",
      "Running: samtools index sample1.2-61.trimmed.rg.sorted.bam\n",
      "Running: samtools index sample1.2-61.primertrimmed.rg.sorted.bam\n",
      "Running: nanopolish variants --min-flanking-sequence 10 -x 1000000 --progress -t 12 --reads barcode01.fastq -o sample1.2-61.nCoV-2019_2.vcf -b sample1.2-61.trimmed.rg.sorted.bam -g /media/viro102/HDPH-UT1/CORONA/bioinformatics/software/artic-ncov2019/primer_schemes/nCoV-2019/V3/nCoV-2019.reference.fasta -w \"MN908947.3:1-29904\" --ploidy 1 -m 0.15 --read-group nCoV-2019_2 \n",
      "Running: nanopolish variants --min-flanking-sequence 10 -x 1000000 --progress -t 12 --reads barcode01.fastq -o sample1.2-61.nCoV-2019_1.vcf -b sample1.2-61.trimmed.rg.sorted.bam -g /media/viro102/HDPH-UT1/CORONA/bioinformatics/software/artic-ncov2019/primer_schemes/nCoV-2019/V3/nCoV-2019.reference.fasta -w \"MN908947.3:1-29904\" --ploidy 1 -m 0.15 --read-group nCoV-2019_1 \n",
      "Running: artic_vcf_merge sample1.2-61 /media/viro102/HDPH-UT1/CORONA/bioinformatics/software/artic-ncov2019/primer_schemes/nCoV-2019/V3/nCoV-2019.scheme.bed nCoV-2019_2:sample1.2-61.nCoV-2019_2.vcf nCoV-2019_1:sample1.2-61.nCoV-2019_1.vcf\n",
      "Running: artic_vcf_filter --nanopolish sample1.2-61.merged.vcf sample1.2-61.pass.vcf sample1.2-61.fail.vcf\n",
      "Running: artic_make_depth_mask --store-rg-depths /media/viro102/HDPH-UT1/CORONA/bioinformatics/software/artic-ncov2019/primer_schemes/nCoV-2019/V3/nCoV-2019.reference.fasta sample1.2-61.primertrimmed.rg.sorted.bam sample1.2-61.coverage_mask.txt\n",
      "Running: artic_plot_amplicon_depth --primerScheme /media/viro102/HDPH-UT1/CORONA/bioinformatics/software/artic-ncov2019/primer_schemes/nCoV-2019/V3/nCoV-2019.scheme.bed --sampleID sample1.2-61 --outFilePrefix sample1.2-61 sample1.2-61*.depths\n",
      "Running: bgzip -f sample1.2-61.pass.vcf\n",
      "Running: tabix -p vcf sample1.2-61.pass.vcf.gz\n",
      "Running: artic_mask /media/viro102/HDPH-UT1/CORONA/bioinformatics/software/artic-ncov2019/primer_schemes/nCoV-2019/V3/nCoV-2019.reference.fasta sample1.2-61.coverage_mask.txt sample1.2-61.fail.vcf sample1.2-61.preconsensus.fasta\n",
      "Running: bcftools consensus -f sample1.2-61.preconsensus.fasta sample1.2-61.pass.vcf.gz -m sample1.2-61.coverage_mask.txt -o sample1.2-61.consensus.fasta\n",
      "Running: artic_fasta_header sample1.2-61.consensus.fasta \"sample1.2-61/ARTIC/nanopolish\"\n",
      "Running: cat sample1.2-61.consensus.fasta /media/viro102/HDPH-UT1/CORONA/bioinformatics/software/artic-ncov2019/primer_schemes/nCoV-2019/V3/nCoV-2019.reference.fasta > sample1.2-61.muscle.in.fasta\n",
      "Running: muscle -in sample1.2-61.muscle.in.fasta -out sample1.2-61.muscle.out.fasta\n"
     ]
    }
   ],
   "source": [
    "%%bash\n",
    "cd /media/viro102/HDPH-UT1/CORONA/Pilot_SARS_Cov2_20201217/filtered/barcode01\n",
    "artic minion --normalise 200 --threads 12 --scheme-directory /media/viro102/HDPH-UT1/CORONA/bioinformatics/software/artic-ncov2019/primer_schemes --read-file barcode01.fastq  --fast5-directory /media/viro102/HDPH-UT1/CORONA/Pilot_SARS_Cov2_20201217/Pilot_SARS-Cov2_20201217/20201217_0712_MN26707_FAL13903_4c35086e/fast5 --sequencing-summary /media/viro102/HDPH-UT1/CORONA/Pilot_SARS_Cov2_20201217/basecalled/sequencing_summary.txt  nCoV-2019/V3 sample1.2-61"
   ]
  },
  {
   "cell_type": "code",
   "execution_count": 10,
   "metadata": {},
   "outputs": [],
   "source": [
    "import os\n",
    "import pandas as pd\n",
    "os.chdir(\"/media/viro102/HDPH-UT1/CORONA/Pilot_SARS_Cov2_20201217/filtered/barcode01\")"
   ]
  },
  {
   "cell_type": "code",
   "execution_count": null,
   "metadata": {},
   "outputs": [],
   "source": [
    "%%bash\n",
    "cd /media/viro102/HDPH-UT1/CORONA/Pilot_SARS_Cov2_20201217/filtered/barcode02\n",
    "artic minion --normalise 200 --threads 12 --scheme-directory /media/viro102/HDPH-UT1/CORONA/bioinformatics/software/artic-ncov2019/primer_schemes --read-file barcode02.fastq  --fast5-directory /media/viro102/HDPH-UT1/CORONA/Pilot_SARS_Cov2_20201217/Pilot_SARS-Cov2_20201217/20201217_0712_MN26707_FAL13903_4c35086e/fast5 --sequencing-summary /media/viro102/HDPH-UT1/CORONA/Pilot_SARS_Cov2_20201217/basecalled/sequencing_summary.txt  nCoV-2019/V3 sample1.2-63"
   ]
  },
  {
   "cell_type": "code",
   "execution_count": 18,
   "metadata": {},
   "outputs": [
    {
     "name": "stdout",
     "output_type": "stream",
     "text": [
      "Script started, file is ./log.txt\n",
      "artic minion --normalise 200 --threads 12 --scheme-directory /media/viro102/HDPH-UT1/CORONA/bioinformatics/software/artic-ncov2019/primer_schemes --read-file barcode03.fastq  --fast5-directory /media/viro102/HDPH-UT1/CORONA/Pilot_SARS_Cov2_20201217/Pilot_SARS-Cov2_20201217/20201217_0712_MN26707_FAL13903_4c35086e/fast5 --sequencing-summary /media/viro102/HDPH-UT1/CORONA/Pilot_SARS_Cov2_20201217/basecalled/sequencing_summary.txt  nCoV-2019/V3 sample1.2-65\n",
      "exit\n",
      "mple1.2-65_SARS_Cov2_20201217/basecalled/sequencing_summary.txt  nCoV-2019/V3 sam-schev2_20201217/filtered/barcode03\u0007\u001b[01;32mviro102@viro102-Precision-Tower-7810\u001b[00m:\u001b[01;34m/media/viro102/HDPH-UT1/CORONA/Pilot_SARS_Co\n",
      "\u001b[32m\u001b[22mRunning: \u001b[39m\u001b[22mnanopolish index -s /media/viro102/HDPH-UT1/CORONA/Pilot_SARS_Cov2_20201217/basecalled/sequencing_summary.txt -d /media/viro102/HDPH-UT1/CORONA/Pilot_SARS_Cov2_20201217/Pilot_SARS-Cov2_20201217/20201217_0712_MN26707_FAL13903_4c35086e/fast5 barcode03.fastq\n",
      "[readdb] indexing /media/viro102/HDPH-UT1/CORONA/Pilot_SARS_Cov2_20201217/Pilot_SARS-Cov2_20201217/20201217_0712_MN26707_FAL13903_4c35086e/fast5\n",
      "[readdb] num reads: 270503, num reads with path to fast5: 270503\n",
      "\u001b[32m\u001b[22mRunning: \u001b[39m\u001b[22mminimap2 -a -x map-ont -t 12 /media/viro102/HDPH-UT1/CORONA/bioinformatics/software/artic-ncov2019/primer_schemes/nCoV-2019/V3/nCoV-2019.reference.fasta barcode03.fastq | samtools view -bS -F 4 - | samtools sort -o sample1.2-65.sorted.bam -\n",
      "[M::mm_idx_gen::0.005*1.41] collected minimizers\n",
      "[M::mm_idx_gen::0.010*3.71] sorted minimizers\n",
      "[M::main::0.010*3.70] loaded/built the index for 1 target sequence(s)\n",
      "[M::mm_mapopt_update::0.010*3.51] mid_occ = 3\n",
      "[M::mm_idx_stat] kmer size: 15; skip: 10; is_hpc: 0; #seq: 1\n",
      "[M::mm_idx_stat::0.011*3.38] distinct minimizers: 5587 (99.93% are singletons); average occurrences: 1.004; average spacing: 5.332\n",
      "[M::worker_pipeline::18.982*4.70] mapped 270503 sequences\n",
      "[M::main] Version: 2.17-r941\n",
      "[M::main] CMD: minimap2 -a -x map-ont -t 12 /media/viro102/HDPH-UT1/CORONA/bioinformatics/software/artic-ncov2019/primer_schemes/nCoV-2019/V3/nCoV-2019.reference.fasta barcode03.fastq\n",
      "[M::main] Real time: 18.985 sec; CPU: 89.124 sec; Peak RSS: 0.365 GB\n",
      "\u001b[32m\u001b[22mRunning: \u001b[39m\u001b[22msamtools index sample1.2-65.sorted.bam\n",
      "\u001b[32m\u001b[22mRunning: \u001b[39m\u001b[22malign_trim --start --normalise 200 /media/viro102/HDPH-UT1/CORONA/bioinformatics/software/artic-ncov2019/primer_schemes/nCoV-2019/V3/nCoV-2019.scheme.bed --report sample1.2-65.alignreport.txt < sample1.2-65.sorted.bam 2> sample1.2-65.alignreport.er | samtools sort -T sample1.2-65 - -o sample1.2-65.trimmed.rg.sorted.bam\n",
      "\u001b[32m\u001b[22mRunning: \u001b[39m\u001b[22malign_trim --normalise 200 /media/viro102/HDPH-UT1/CORONA/bioinformatics/software/artic-ncov2019/primer_schemes/nCoV-2019/V3/nCoV-2019.scheme.bed --remove-incorrect-pairs --report sample1.2-65.alignreport.txt < sample1.2-65.sorted.bam 2> sample1.2-65.alignreport.er | samtools sort -T sample1.2-65 - -o sample1.2-65.primertrimmed.rg.sorted.bam\n",
      "\u001b[32m\u001b[22mRunning: \u001b[39m\u001b[22msamtools index sample1.2-65.trimmed.rg.sorted.bam\n",
      "\u001b[32m\u001b[22mRunning: \u001b[39m\u001b[22msamtools index sample1.2-65.primertrimmed.rg.sorted.bam\n",
      "\u001b[32m\u001b[22mRunning: \u001b[39m\u001b[22mnanopolish variants --min-flanking-sequence 10 -x 1000000 --progress -t 12 --reads barcode03.fastq -o sample1.2-65.nCoV-2019_1.vcf -b sample1.2-65.trimmed.rg.sorted.bam -g /media/viro102/HDPH-UT1/CORONA/bioinformatics/software/artic-ncov2019/primer_schemes/nCoV-2019/V3/nCoV-2019.reference.fasta -w \"MN908947.3:1-29904\" --ploidy 1 -m 0.15 --read-group nCoV-2019_1 \n",
      "[post-run summary] total reads: 33270, unparseable: 0, qc fail: 20, could not calibrate: 6, no alignment: 155, bad fast5: 0\n",
      "\u001b[32m\u001b[22mRunning: \u001b[39m\u001b[22mnanopolish variants --min-flanking-sequence 10 -x 1000000 --progress -t 12 --reads barcode03.fastq -o sample1.2-65.nCoV-2019_2.vcf -b sample1.2-65.trimmed.rg.sorted.bam -g /media/viro102/HDPH-UT1/CORONA/bioinformatics/software/artic-ncov2019/primer_schemes/nCoV-2019/V3/nCoV-2019.reference.fasta -w \"MN908947.3:1-29904\" --ploidy 1 -m 0.15 --read-group nCoV-2019_2 \n",
      "[post-run summary] total reads: 30407, unparseable: 0, qc fail: 13, could not calibrate: 5, no alignment: 123, bad fast5: 0\n",
      "\u001b[32m\u001b[22mRunning: \u001b[39m\u001b[22martic_vcf_merge sample1.2-65 /media/viro102/HDPH-UT1/CORONA/bioinformatics/software/artic-ncov2019/primer_schemes/nCoV-2019/V3/nCoV-2019.scheme.bed nCoV-2019_1:sample1.2-65.nCoV-2019_1.vcf nCoV-2019_2:sample1.2-65.nCoV-2019_2.vcf\n",
      "\u001b[32m\u001b[22mRunning: \u001b[39m\u001b[22martic_vcf_filter --nanopolish sample1.2-65.merged.vcf sample1.2-65.pass.vcf sample1.2-65.fail.vcf\n",
      "\u001b[32m\u001b[22mRunning: \u001b[39m\u001b[22martic_make_depth_mask --store-rg-depths /media/viro102/HDPH-UT1/CORONA/bioinformatics/software/artic-ncov2019/primer_schemes/nCoV-2019/V3/nCoV-2019.reference.fasta sample1.2-65.primertrimmed.rg.sorted.bam sample1.2-65.coverage_mask.txt\n",
      "\u001b[32m\u001b[22mRunning: \u001b[39m\u001b[22martic_plot_amplicon_depth --primerScheme /media/viro102/HDPH-UT1/CORONA/bioinformatics/software/artic-ncov2019/primer_schemes/nCoV-2019/V3/nCoV-2019.scheme.bed --sampleID sample1.2-65 --outFilePrefix sample1.2-65 sample1.2-65*.depths\n",
      "\u001b[32m\u001b[22mRunning: \u001b[39m\u001b[22mbgzip -f sample1.2-65.pass.vcf\n",
      "\u001b[32m\u001b[22mRunning: \u001b[39m\u001b[22mtabix -p vcf sample1.2-65.pass.vcf.gz\n",
      "\u001b[32m\u001b[22mRunning: \u001b[39m\u001b[22martic_mask /media/viro102/HDPH-UT1/CORONA/bioinformatics/software/artic-ncov2019/primer_schemes/nCoV-2019/V3/nCoV-2019.reference.fasta sample1.2-65.coverage_mask.txt sample1.2-65.fail.vcf sample1.2-65.preconsensus.fasta\n",
      "\u001b[32m\u001b[22mRunning: \u001b[39m\u001b[22mbcftools consensus -f sample1.2-65.preconsensus.fasta sample1.2-65.pass.vcf.gz -m sample1.2-65.coverage_mask.txt -o sample1.2-65.consensus.fasta\n",
      "Note: the --sample option not given, applying all records regardless of the genotype\n",
      "Applied 4 variants\n",
      "\u001b[32m\u001b[22mRunning: \u001b[39m\u001b[22martic_fasta_header sample1.2-65.consensus.fasta \"sample1.2-65/ARTIC/nanopolish\"\n",
      "\u001b[32m\u001b[22mRunning: \u001b[39m\u001b[22mcat sample1.2-65.consensus.fasta /media/viro102/HDPH-UT1/CORONA/bioinformatics/software/artic-ncov2019/primer_schemes/nCoV-2019/V3/nCoV-2019.reference.fasta > sample1.2-65.muscle.in.fasta\n",
      "\u001b[32m\u001b[22mRunning: \u001b[39m\u001b[22mmuscle -in sample1.2-65.muscle.in.fasta -out sample1.2-65.muscle.out.fasta\n",
      "\n",
      "MUSCLE v3.8.1551 by Robert C. Edgar\n",
      "\n",
      "http://www.drive5.com/muscle\n",
      "This software is donated to the public domain.\n",
      "Please cite: Edgar, R.C. Nucleic Acids Res 32(5), 1792-97.\n",
      "\n",
      "sample1.2-65.muscle.in 2 seqs, lengths min 29887, max 29903, avg 29895\n",
      "00:00:00    20 MB(-1%)  Iter   1  100.00%  K-mer dist pass 1\n",
      "00:00:00    20 MB(-1%)  Iter   1  100.00%  K-mer dist pass 2\n",
      "00:00:26  1003 MB(-67%)  Iter   1  100.00%  Align node      \n",
      "00:00:26  1003 MB(-67%)  Iter   1  100.00%  Root alignment\n",
      "ov2_20201217/filtered/barcode03\u001b[00m$ exit/media/viro102/HDPH-UT1/CORONA/Pilot_SARS_Cov2_20201217/filtered/barcode03\u0007\u001b[01;32mviro102@viro102-Precision-Tower-7810\u001b[00m:\u001b[01;34m/media/viro102/HDPH-UT1/CORONA/Pilot_SARS_Co\n",
      "exit\n",
      "Script done, file is ./log.txt\n"
     ]
    }
   ],
   "source": [
    "%%bash\n",
    "cd /media/viro102/HDPH-UT1/CORONA/Pilot_SARS_Cov2_20201217/filtered/barcode03\n",
    "script ./log.txt\n",
    "artic minion --normalise 200 --threads 12 --scheme-directory /media/viro102/HDPH-UT1/CORONA/bioinformatics/software/artic-ncov2019/primer_schemes --read-file barcode03.fastq  --fast5-directory /media/viro102/HDPH-UT1/CORONA/Pilot_SARS_Cov2_20201217/Pilot_SARS-Cov2_20201217/20201217_0712_MN26707_FAL13903_4c35086e/fast5 --sequencing-summary /media/viro102/HDPH-UT1/CORONA/Pilot_SARS_Cov2_20201217/basecalled/sequencing_summary.txt  nCoV-2019/V3 sample1.2-65\n",
    "exit"
   ]
  },
  {
   "cell_type": "code",
   "execution_count": 19,
   "metadata": {},
   "outputs": [
    {
     "name": "stdout",
     "output_type": "stream",
     "text": [
      "Script started, file is ./log.txt\n",
      "artic minion --normalise 200 --threads 12 --scheme-directory /media/viro102/HDPH-UT1/CORONA/bioinformatics/software/artic-ncov2019/primer_schemes --read-file barcode04.fastq  --fast5-directory /media/viro102/HDPH-UT1/CORONA/Pilot_SARS_Cov2_20201217/Pilot_SARS-Cov2_20201217/20201217_0712_MN26707_FAL13903_4c35086e/fast5 --sequencing-summary /media/viro102/HDPH-UT1/CORONA/Pilot_SARS_Cov2_20201217/basecalled/sequencing_summary.txt  nCoV-2019/V3 sample2.2-61\n",
      "exit\n",
      "mple2.2-61_SARS_Cov2_20201217/basecalled/sequencing_summary.txt  nCoV-2019/V3 sam-schev2_20201217/filtered/barcode04\u0007\u001b[01;32mviro102@viro102-Precision-Tower-7810\u001b[00m:\u001b[01;34m/media/viro102/HDPH-UT1/CORONA/Pilot_SARS_Co\n",
      "\u001b[32m\u001b[22mRunning: \u001b[39m\u001b[22mnanopolish index -s /media/viro102/HDPH-UT1/CORONA/Pilot_SARS_Cov2_20201217/basecalled/sequencing_summary.txt -d /media/viro102/HDPH-UT1/CORONA/Pilot_SARS_Cov2_20201217/Pilot_SARS-Cov2_20201217/20201217_0712_MN26707_FAL13903_4c35086e/fast5 barcode04.fastq\n",
      "[readdb] indexing /media/viro102/HDPH-UT1/CORONA/Pilot_SARS_Cov2_20201217/Pilot_SARS-Cov2_20201217/20201217_0712_MN26707_FAL13903_4c35086e/fast5\n",
      "[readdb] num reads: 412957, num reads with path to fast5: 412957\n",
      "\u001b[32m\u001b[22mRunning: \u001b[39m\u001b[22mminimap2 -a -x map-ont -t 12 /media/viro102/HDPH-UT1/CORONA/bioinformatics/software/artic-ncov2019/primer_schemes/nCoV-2019/V3/nCoV-2019.reference.fasta barcode04.fastq | samtools view -bS -F 4 - | samtools sort -o sample2.2-61.sorted.bam -\n",
      "[M::mm_idx_gen::0.004*1.50] collected minimizers\n",
      "[M::mm_idx_gen::0.008*3.98] sorted minimizers\n",
      "[M::main::0.008*3.96] loaded/built the index for 1 target sequence(s)\n",
      "[M::mm_mapopt_update::0.008*3.71] mid_occ = 3\n",
      "[M::mm_idx_stat] kmer size: 15; skip: 10; is_hpc: 0; #seq: 1\n",
      "[M::mm_idx_stat::0.009*3.53] distinct minimizers: 5587 (99.93% are singletons); average occurrences: 1.004; average spacing: 5.332\n",
      "[M::worker_pipeline::28.814*4.73] mapped 412957 sequences\n",
      "[M::main] Version: 2.17-r941\n",
      "[M::main] CMD: minimap2 -a -x map-ont -t 12 /media/viro102/HDPH-UT1/CORONA/bioinformatics/software/artic-ncov2019/primer_schemes/nCoV-2019/V3/nCoV-2019.reference.fasta barcode04.fastq\n",
      "[M::main] Real time: 28.819 sec; CPU: 136.240 sec; Peak RSS: 0.551 GB\n",
      "\u001b[32m\u001b[22mRunning: \u001b[39m\u001b[22msamtools index sample2.2-61.sorted.bam\n",
      "\u001b[32m\u001b[22mRunning: \u001b[39m\u001b[22malign_trim --start --normalise 200 /media/viro102/HDPH-UT1/CORONA/bioinformatics/software/artic-ncov2019/primer_schemes/nCoV-2019/V3/nCoV-2019.scheme.bed --report sample2.2-61.alignreport.txt < sample2.2-61.sorted.bam 2> sample2.2-61.alignreport.er | samtools sort -T sample2.2-61 - -o sample2.2-61.trimmed.rg.sorted.bam\n",
      "\u001b[32m\u001b[22mRunning: \u001b[39m\u001b[22malign_trim --normalise 200 /media/viro102/HDPH-UT1/CORONA/bioinformatics/software/artic-ncov2019/primer_schemes/nCoV-2019/V3/nCoV-2019.scheme.bed --remove-incorrect-pairs --report sample2.2-61.alignreport.txt < sample2.2-61.sorted.bam 2> sample2.2-61.alignreport.er | samtools sort -T sample2.2-61 - -o sample2.2-61.primertrimmed.rg.sorted.bam\n",
      "\u001b[32m\u001b[22mRunning: \u001b[39m\u001b[22msamtools index sample2.2-61.trimmed.rg.sorted.bam\n",
      "\u001b[32m\u001b[22mRunning: \u001b[39m\u001b[22msamtools index sample2.2-61.primertrimmed.rg.sorted.bam\n",
      "\u001b[32m\u001b[22mRunning: \u001b[39m\u001b[22mnanopolish variants --min-flanking-sequence 10 -x 1000000 --progress -t 12 --reads barcode04.fastq -o sample2.2-61.nCoV-2019_2.vcf -b sample2.2-61.trimmed.rg.sorted.bam -g /media/viro102/HDPH-UT1/CORONA/bioinformatics/software/artic-ncov2019/primer_schemes/nCoV-2019/V3/nCoV-2019.reference.fasta -w \"MN908947.3:1-29904\" --ploidy 1 -m 0.15 --read-group nCoV-2019_2 \n",
      "[post-run summary] total reads: 35262, unparseable: 0, qc fail: 24, could not calibrate: 1, no alignment: 180, bad fast5: 0\n",
      "\u001b[32m\u001b[22mRunning: \u001b[39m\u001b[22mnanopolish variants --min-flanking-sequence 10 -x 1000000 --progress -t 12 --reads barcode04.fastq -o sample2.2-61.nCoV-2019_1.vcf -b sample2.2-61.trimmed.rg.sorted.bam -g /media/viro102/HDPH-UT1/CORONA/bioinformatics/software/artic-ncov2019/primer_schemes/nCoV-2019/V3/nCoV-2019.reference.fasta -w \"MN908947.3:1-29904\" --ploidy 1 -m 0.15 --read-group nCoV-2019_1 \n",
      "[post-run summary] total reads: 37176, unparseable: 0, qc fail: 23, could not calibrate: 4, no alignment: 178, bad fast5: 0\n",
      "\u001b[32m\u001b[22mRunning: \u001b[39m\u001b[22martic_vcf_merge sample2.2-61 /media/viro102/HDPH-UT1/CORONA/bioinformatics/software/artic-ncov2019/primer_schemes/nCoV-2019/V3/nCoV-2019.scheme.bed nCoV-2019_2:sample2.2-61.nCoV-2019_2.vcf nCoV-2019_1:sample2.2-61.nCoV-2019_1.vcf\n",
      "\u001b[32m\u001b[22mRunning: \u001b[39m\u001b[22martic_vcf_filter --nanopolish sample2.2-61.merged.vcf sample2.2-61.pass.vcf sample2.2-61.fail.vcf\n",
      "\u001b[32m\u001b[22mRunning: \u001b[39m\u001b[22martic_make_depth_mask --store-rg-depths /media/viro102/HDPH-UT1/CORONA/bioinformatics/software/artic-ncov2019/primer_schemes/nCoV-2019/V3/nCoV-2019.reference.fasta sample2.2-61.primertrimmed.rg.sorted.bam sample2.2-61.coverage_mask.txt\n",
      "\u001b[32m\u001b[22mRunning: \u001b[39m\u001b[22martic_plot_amplicon_depth --primerScheme /media/viro102/HDPH-UT1/CORONA/bioinformatics/software/artic-ncov2019/primer_schemes/nCoV-2019/V3/nCoV-2019.scheme.bed --sampleID sample2.2-61 --outFilePrefix sample2.2-61 sample2.2-61*.depths\n",
      "\u001b[32m\u001b[22mRunning: \u001b[39m\u001b[22mbgzip -f sample2.2-61.pass.vcf\n",
      "\u001b[32m\u001b[22mRunning: \u001b[39m\u001b[22mtabix -p vcf sample2.2-61.pass.vcf.gz\n",
      "\u001b[32m\u001b[22mRunning: \u001b[39m\u001b[22martic_mask /media/viro102/HDPH-UT1/CORONA/bioinformatics/software/artic-ncov2019/primer_schemes/nCoV-2019/V3/nCoV-2019.reference.fasta sample2.2-61.coverage_mask.txt sample2.2-61.fail.vcf sample2.2-61.preconsensus.fasta\n",
      "\u001b[32m\u001b[22mRunning: \u001b[39m\u001b[22mbcftools consensus -f sample2.2-61.preconsensus.fasta sample2.2-61.pass.vcf.gz -m sample2.2-61.coverage_mask.txt -o sample2.2-61.consensus.fasta\n",
      "Note: the --sample option not given, applying all records regardless of the genotype\n",
      "The site MN908947.3:8917 overlaps with another variant, skipping...\n",
      "Applied 16 variants\n",
      "\u001b[32m\u001b[22mRunning: \u001b[39m\u001b[22martic_fasta_header sample2.2-61.consensus.fasta \"sample2.2-61/ARTIC/nanopolish\"\n",
      "\u001b[32m\u001b[22mRunning: \u001b[39m\u001b[22mcat sample2.2-61.consensus.fasta /media/viro102/HDPH-UT1/CORONA/bioinformatics/software/artic-ncov2019/primer_schemes/nCoV-2019/V3/nCoV-2019.reference.fasta > sample2.2-61.muscle.in.fasta\n",
      "\u001b[32m\u001b[22mRunning: \u001b[39m\u001b[22mmuscle -in sample2.2-61.muscle.in.fasta -out sample2.2-61.muscle.out.fasta\n",
      "\n",
      "MUSCLE v3.8.1551 by Robert C. Edgar\n",
      "\n",
      "http://www.drive5.com/muscle\n",
      "This software is donated to the public domain.\n",
      "Please cite: Edgar, R.C. Nucleic Acids Res 32(5), 1792-97.\n",
      "\n",
      "sample2.2-61.muscle.in 2 seqs, lengths min 29888, max 29903, avg 29895\n",
      "00:00:00    20 MB(-1%)  Iter   1  100.00%  K-mer dist pass 1\n",
      "00:00:00    20 MB(-1%)  Iter   1  100.00%  K-mer dist pass 2\n",
      "00:00:26  1003 MB(-67%)  Iter   1  100.00%  Align node      \n",
      "00:00:26  1003 MB(-67%)  Iter   1  100.00%  Root alignment\n",
      "ov2_20201217/filtered/barcode04\u001b[00m$ exit/media/viro102/HDPH-UT1/CORONA/Pilot_SARS_Cov2_20201217/filtered/barcode04\u0007\u001b[01;32mviro102@viro102-Precision-Tower-7810\u001b[00m:\u001b[01;34m/media/viro102/HDPH-UT1/CORONA/Pilot_SARS_Co\n",
      "exit\n",
      "Script done, file is ./log.txt\n"
     ]
    }
   ],
   "source": [
    "%%bash\n",
    "cd /media/viro102/HDPH-UT1/CORONA/Pilot_SARS_Cov2_20201217/filtered/barcode04\n",
    "script ./log.txt\n",
    "artic minion --normalise 200 --threads 12 --scheme-directory /media/viro102/HDPH-UT1/CORONA/bioinformatics/software/artic-ncov2019/primer_schemes --read-file barcode04.fastq  --fast5-directory /media/viro102/HDPH-UT1/CORONA/Pilot_SARS_Cov2_20201217/Pilot_SARS-Cov2_20201217/20201217_0712_MN26707_FAL13903_4c35086e/fast5 --sequencing-summary /media/viro102/HDPH-UT1/CORONA/Pilot_SARS_Cov2_20201217/basecalled/sequencing_summary.txt  nCoV-2019/V3 sample2.2-61\n",
    "exit"
   ]
  },
  {
   "cell_type": "code",
   "execution_count": 20,
   "metadata": {},
   "outputs": [
    {
     "name": "stdout",
     "output_type": "stream",
     "text": [
      "Script started, file is ./log.txt\n",
      "cd /media/viro102/HDPH-UT1/CORONA/Pilot_SARS_Cov2_20201217/filtered/barcode05\n",
      "artic minion --normalise 200 --threads 12 --scheme-directory /media/viro102/HDPH-UT1/CORONA/bioinformatics/software/artic-ncov2019/primer_schemes --read-file barcode05.fastq  --fast5-directory /media/viro102/HDPH-UT1/CORONA/Pilot_SARS_Cov2_20201217/Pilot_SARS-Cov2_20201217/20201217_0712_MN26707_FAL13903_4c35086e/fast5 --sequencing-summary /media/viro102/HDPH-UT1/CORONA/Pilot_SARS_Cov2_20201217/basecalled/sequencing_summary.txt  nCoV-2019/V3 sample2.2-63 \n",
      "exit\n",
      "v2_20201217/filtered/barcode051\u001b[00m$ cd /media/viro102/HDPH-UT1/CORONA/Pilot_SARS_Covv2_20201217/filtered/barcode01\u0007\u001b[01;32mviro102@viro102-Precision-Tower-7810\u001b[00m:\u001b[01;34m/media/viro102/HDPH-UT1/CORONA/Pilot_SARS_Co\n",
      "mple2.2-63 SARS_Cov2_20201217/basecalled/sequencing_summary.txt  nCoV-2019/V3 sam-schev2_20201217/filtered/barcode05\u0007\u001b[01;32mviro102@viro102-Precision-Tower-7810\u001b[00m:\u001b[01;34m/media/viro102/HDPH-UT1/CORONA/Pilot_SARS_Co\n",
      "\u001b[32m\u001b[22mRunning: \u001b[39m\u001b[22mnanopolish index -s /media/viro102/HDPH-UT1/CORONA/Pilot_SARS_Cov2_20201217/basecalled/sequencing_summary.txt -d /media/viro102/HDPH-UT1/CORONA/Pilot_SARS_Cov2_20201217/Pilot_SARS-Cov2_20201217/20201217_0712_MN26707_FAL13903_4c35086e/fast5 barcode05.fastq\n",
      "[readdb] indexing /media/viro102/HDPH-UT1/CORONA/Pilot_SARS_Cov2_20201217/Pilot_SARS-Cov2_20201217/20201217_0712_MN26707_FAL13903_4c35086e/fast5\n",
      "[readdb] num reads: 443287, num reads with path to fast5: 443287\n",
      "\u001b[32m\u001b[22mRunning: \u001b[39m\u001b[22mminimap2 -a -x map-ont -t 12 /media/viro102/HDPH-UT1/CORONA/bioinformatics/software/artic-ncov2019/primer_schemes/nCoV-2019/V3/nCoV-2019.reference.fasta barcode05.fastq | samtools view -bS -F 4 - | samtools sort -o sample2.2-63.sorted.bam -\n",
      "[M::mm_idx_gen::0.005*1.41] collected minimizers\n",
      "[M::mm_idx_gen::0.008*2.47] sorted minimizers\n",
      "[M::main::0.008*2.46] loaded/built the index for 1 target sequence(s)\n",
      "[M::mm_mapopt_update::0.009*2.38] mid_occ = 3\n",
      "[M::mm_idx_stat] kmer size: 15; skip: 10; is_hpc: 0; #seq: 1\n",
      "[M::mm_idx_stat::0.009*2.31] distinct minimizers: 5587 (99.93% are singletons); average occurrences: 1.004; average spacing: 5.332\n",
      "[M::worker_pipeline::30.533*4.75] mapped 443287 sequences\n",
      "[M::main] Version: 2.17-r941\n",
      "[M::main] CMD: minimap2 -a -x map-ont -t 12 /media/viro102/HDPH-UT1/CORONA/bioinformatics/software/artic-ncov2019/primer_schemes/nCoV-2019/V3/nCoV-2019.reference.fasta barcode05.fastq\n",
      "[M::main] Real time: 30.538 sec; CPU: 145.181 sec; Peak RSS: 0.590 GB\n",
      "\u001b[32m\u001b[22mRunning: \u001b[39m\u001b[22msamtools index sample2.2-63.sorted.bam\n",
      "\u001b[32m\u001b[22mRunning: \u001b[39m\u001b[22malign_trim --start --normalise 200 /media/viro102/HDPH-UT1/CORONA/bioinformatics/software/artic-ncov2019/primer_schemes/nCoV-2019/V3/nCoV-2019.scheme.bed --report sample2.2-63.alignreport.txt < sample2.2-63.sorted.bam 2> sample2.2-63.alignreport.er | samtools sort -T sample2.2-63 - -o sample2.2-63.trimmed.rg.sorted.bam\n",
      "\u001b[32m\u001b[22mRunning: \u001b[39m\u001b[22malign_trim --normalise 200 /media/viro102/HDPH-UT1/CORONA/bioinformatics/software/artic-ncov2019/primer_schemes/nCoV-2019/V3/nCoV-2019.scheme.bed --remove-incorrect-pairs --report sample2.2-63.alignreport.txt < sample2.2-63.sorted.bam 2> sample2.2-63.alignreport.er | samtools sort -T sample2.2-63 - -o sample2.2-63.primertrimmed.rg.sorted.bam\n",
      "\u001b[32m\u001b[22mRunning: \u001b[39m\u001b[22msamtools index sample2.2-63.trimmed.rg.sorted.bam\n",
      "\u001b[32m\u001b[22mRunning: \u001b[39m\u001b[22msamtools index sample2.2-63.primertrimmed.rg.sorted.bam\n",
      "\u001b[32m\u001b[22mRunning: \u001b[39m\u001b[22mnanopolish variants --min-flanking-sequence 10 -x 1000000 --progress -t 12 --reads barcode05.fastq -o sample2.2-63.nCoV-2019_2.vcf -b sample2.2-63.trimmed.rg.sorted.bam -g /media/viro102/HDPH-UT1/CORONA/bioinformatics/software/artic-ncov2019/primer_schemes/nCoV-2019/V3/nCoV-2019.reference.fasta -w \"MN908947.3:1-29904\" --ploidy 1 -m 0.15 --read-group nCoV-2019_2 \n",
      "[post-run summary] total reads: 35231, unparseable: 0, qc fail: 19, could not calibrate: 6, no alignment: 132, bad fast5: 0\n",
      "\u001b[32m\u001b[22mRunning: \u001b[39m\u001b[22mnanopolish variants --min-flanking-sequence 10 -x 1000000 --progress -t 12 --reads barcode05.fastq -o sample2.2-63.nCoV-2019_1.vcf -b sample2.2-63.trimmed.rg.sorted.bam -g /media/viro102/HDPH-UT1/CORONA/bioinformatics/software/artic-ncov2019/primer_schemes/nCoV-2019/V3/nCoV-2019.reference.fasta -w \"MN908947.3:1-29904\" --ploidy 1 -m 0.15 --read-group nCoV-2019_1 \n",
      "[post-run summary] total reads: 36533, unparseable: 0, qc fail: 17, could not calibrate: 6, no alignment: 143, bad fast5: 0\n",
      "\u001b[32m\u001b[22mRunning: \u001b[39m\u001b[22martic_vcf_merge sample2.2-63 /media/viro102/HDPH-UT1/CORONA/bioinformatics/software/artic-ncov2019/primer_schemes/nCoV-2019/V3/nCoV-2019.scheme.bed nCoV-2019_2:sample2.2-63.nCoV-2019_2.vcf nCoV-2019_1:sample2.2-63.nCoV-2019_1.vcf\n",
      "\u001b[32m\u001b[22mRunning: \u001b[39m\u001b[22martic_vcf_filter --nanopolish sample2.2-63.merged.vcf sample2.2-63.pass.vcf sample2.2-63.fail.vcf\n",
      "\u001b[32m\u001b[22mRunning: \u001b[39m\u001b[22martic_make_depth_mask --store-rg-depths /media/viro102/HDPH-UT1/CORONA/bioinformatics/software/artic-ncov2019/primer_schemes/nCoV-2019/V3/nCoV-2019.reference.fasta sample2.2-63.primertrimmed.rg.sorted.bam sample2.2-63.coverage_mask.txt\n",
      "\u001b[32m\u001b[22mRunning: \u001b[39m\u001b[22martic_plot_amplicon_depth --primerScheme /media/viro102/HDPH-UT1/CORONA/bioinformatics/software/artic-ncov2019/primer_schemes/nCoV-2019/V3/nCoV-2019.scheme.bed --sampleID sample2.2-63 --outFilePrefix sample2.2-63 sample2.2-63*.depths\n",
      "\u001b[32m\u001b[22mRunning: \u001b[39m\u001b[22mbgzip -f sample2.2-63.pass.vcf\n",
      "\u001b[32m\u001b[22mRunning: \u001b[39m\u001b[22mtabix -p vcf sample2.2-63.pass.vcf.gz\n",
      "\u001b[32m\u001b[22mRunning: \u001b[39m\u001b[22martic_mask /media/viro102/HDPH-UT1/CORONA/bioinformatics/software/artic-ncov2019/primer_schemes/nCoV-2019/V3/nCoV-2019.reference.fasta sample2.2-63.coverage_mask.txt sample2.2-63.fail.vcf sample2.2-63.preconsensus.fasta\n",
      "\u001b[32m\u001b[22mRunning: \u001b[39m\u001b[22mbcftools consensus -f sample2.2-63.preconsensus.fasta sample2.2-63.pass.vcf.gz -m sample2.2-63.coverage_mask.txt -o sample2.2-63.consensus.fasta\n",
      "Note: the --sample option not given, applying all records regardless of the genotype\n",
      "The site MN908947.3:8917 overlaps with another variant, skipping...\n",
      "Applied 16 variants\n",
      "\u001b[32m\u001b[22mRunning: \u001b[39m\u001b[22martic_fasta_header sample2.2-63.consensus.fasta \"sample2.2-63/ARTIC/nanopolish\"\n",
      "\u001b[32m\u001b[22mRunning: \u001b[39m\u001b[22mcat sample2.2-63.consensus.fasta /media/viro102/HDPH-UT1/CORONA/bioinformatics/software/artic-ncov2019/primer_schemes/nCoV-2019/V3/nCoV-2019.reference.fasta > sample2.2-63.muscle.in.fasta\n",
      "\u001b[32m\u001b[22mRunning: \u001b[39m\u001b[22mmuscle -in sample2.2-63.muscle.in.fasta -out sample2.2-63.muscle.out.fasta\n",
      "\n",
      "MUSCLE v3.8.1551 by Robert C. Edgar\n",
      "\n",
      "http://www.drive5.com/muscle\n",
      "This software is donated to the public domain.\n",
      "Please cite: Edgar, R.C. Nucleic Acids Res 32(5), 1792-97.\n",
      "\n",
      "sample2.2-63.muscle.in 2 seqs, lengths min 29888, max 29903, avg 29895\n",
      "00:00:00    20 MB(-1%)  Iter   1  100.00%  K-mer dist pass 1\n",
      "00:00:00    20 MB(-1%)  Iter   1  100.00%  K-mer dist pass 2\n",
      "00:00:26  1003 MB(-67%)  Iter   1  100.00%  Align node      \n",
      "00:00:26  1003 MB(-67%)  Iter   1  100.00%  Root alignment\n",
      "ov2_20201217/filtered/barcode05\u001b[00m$ exit/media/viro102/HDPH-UT1/CORONA/Pilot_SARS_Cov2_20201217/filtered/barcode05\u0007\u001b[01;32mviro102@viro102-Precision-Tower-7810\u001b[00m:\u001b[01;34m/media/viro102/HDPH-UT1/CORONA/Pilot_SARS_Co\n",
      "exit\n",
      "Script done, file is ./log.txt\n"
     ]
    }
   ],
   "source": [
    "%%bash\n",
    "script ./log.txt\n",
    "cd /media/viro102/HDPH-UT1/CORONA/Pilot_SARS_Cov2_20201217/filtered/barcode05\n",
    "artic minion --normalise 200 --threads 12 --scheme-directory /media/viro102/HDPH-UT1/CORONA/bioinformatics/software/artic-ncov2019/primer_schemes --read-file barcode05.fastq  --fast5-directory /media/viro102/HDPH-UT1/CORONA/Pilot_SARS_Cov2_20201217/Pilot_SARS-Cov2_20201217/20201217_0712_MN26707_FAL13903_4c35086e/fast5 --sequencing-summary /media/viro102/HDPH-UT1/CORONA/Pilot_SARS_Cov2_20201217/basecalled/sequencing_summary.txt  nCoV-2019/V3 sample2.2-63 \n",
    "exit"
   ]
  },
  {
   "cell_type": "code",
   "execution_count": 21,
   "metadata": {},
   "outputs": [
    {
     "name": "stdout",
     "output_type": "stream",
     "text": [
      "Script started, file is ./log.txt\n",
      "artic minion --normalise 200 --threads 12 --scheme-directory /media/viro102/HDPH-UT1/CORONA/bioinformatics/software/artic-ncov2019/primer_schemes --read-file barcode06.fastq  --fast5-directory /media/viro102/HDPH-UT1/CORONA/Pilot_SARS_Cov2_20201217/Pilot_SARS-Cov2_20201217/20201217_0712_MN26707_FAL13903_4c35086e/fast5 --sequencing-summary /media/viro102/HDPH-UT1/CORONA/Pilot_SARS_Cov2_20201217/basecalled/sequencing_summary.txt  nCoV-2019/V3 sample2.2-65\n",
      "exit\n",
      "mple2.2-65_SARS_Cov2_20201217/basecalled/sequencing_summary.txt  nCoV-2019/V3 sam-schev2_20201217/filtered/barcode06\u0007\u001b[01;32mviro102@viro102-Precision-Tower-7810\u001b[00m:\u001b[01;34m/media/viro102/HDPH-UT1/CORONA/Pilot_SARS_Co\n",
      "\u001b[32m\u001b[22mRunning: \u001b[39m\u001b[22mnanopolish index -s /media/viro102/HDPH-UT1/CORONA/Pilot_SARS_Cov2_20201217/basecalled/sequencing_summary.txt -d /media/viro102/HDPH-UT1/CORONA/Pilot_SARS_Cov2_20201217/Pilot_SARS-Cov2_20201217/20201217_0712_MN26707_FAL13903_4c35086e/fast5 barcode06.fastq\n",
      "[readdb] indexing /media/viro102/HDPH-UT1/CORONA/Pilot_SARS_Cov2_20201217/Pilot_SARS-Cov2_20201217/20201217_0712_MN26707_FAL13903_4c35086e/fast5\n",
      "[readdb] num reads: 302298, num reads with path to fast5: 302298\n",
      "\u001b[32m\u001b[22mRunning: \u001b[39m\u001b[22mminimap2 -a -x map-ont -t 12 /media/viro102/HDPH-UT1/CORONA/bioinformatics/software/artic-ncov2019/primer_schemes/nCoV-2019/V3/nCoV-2019.reference.fasta barcode06.fastq | samtools view -bS -F 4 - | samtools sort -o sample2.2-65.sorted.bam -\n",
      "[M::mm_idx_gen::0.005*1.45] collected minimizers\n",
      "[M::mm_idx_gen::0.008*3.86] sorted minimizers\n",
      "[M::main::0.008*3.84] loaded/built the index for 1 target sequence(s)\n",
      "[M::mm_mapopt_update::0.009*3.63] mid_occ = 3\n",
      "[M::mm_idx_stat] kmer size: 15; skip: 10; is_hpc: 0; #seq: 1\n",
      "[M::mm_idx_stat::0.010*3.50] distinct minimizers: 5587 (99.93% are singletons); average occurrences: 1.004; average spacing: 5.332\n",
      "[M::worker_pipeline::21.197*4.73] mapped 302298 sequences\n",
      "[M::main] Version: 2.17-r941\n",
      "[M::main] CMD: minimap2 -a -x map-ont -t 12 /media/viro102/HDPH-UT1/CORONA/bioinformatics/software/artic-ncov2019/primer_schemes/nCoV-2019/V3/nCoV-2019.reference.fasta barcode06.fastq\n",
      "[M::main] Real time: 21.202 sec; CPU: 100.291 sec; Peak RSS: 0.406 GB\n",
      "\u001b[32m\u001b[22mRunning: \u001b[39m\u001b[22msamtools index sample2.2-65.sorted.bam\n",
      "\u001b[32m\u001b[22mRunning: \u001b[39m\u001b[22malign_trim --start --normalise 200 /media/viro102/HDPH-UT1/CORONA/bioinformatics/software/artic-ncov2019/primer_schemes/nCoV-2019/V3/nCoV-2019.scheme.bed --report sample2.2-65.alignreport.txt < sample2.2-65.sorted.bam 2> sample2.2-65.alignreport.er | samtools sort -T sample2.2-65 - -o sample2.2-65.trimmed.rg.sorted.bam\n",
      "\u001b[32m\u001b[22mRunning: \u001b[39m\u001b[22malign_trim --normalise 200 /media/viro102/HDPH-UT1/CORONA/bioinformatics/software/artic-ncov2019/primer_schemes/nCoV-2019/V3/nCoV-2019.scheme.bed --remove-incorrect-pairs --report sample2.2-65.alignreport.txt < sample2.2-65.sorted.bam 2> sample2.2-65.alignreport.er | samtools sort -T sample2.2-65 - -o sample2.2-65.primertrimmed.rg.sorted.bam\n",
      "\u001b[32m\u001b[22mRunning: \u001b[39m\u001b[22msamtools index sample2.2-65.trimmed.rg.sorted.bam\n",
      "\u001b[32m\u001b[22mRunning: \u001b[39m\u001b[22msamtools index sample2.2-65.primertrimmed.rg.sorted.bam\n",
      "\u001b[32m\u001b[22mRunning: \u001b[39m\u001b[22mnanopolish variants --min-flanking-sequence 10 -x 1000000 --progress -t 12 --reads barcode06.fastq -o sample2.2-65.nCoV-2019_2.vcf -b sample2.2-65.trimmed.rg.sorted.bam -g /media/viro102/HDPH-UT1/CORONA/bioinformatics/software/artic-ncov2019/primer_schemes/nCoV-2019/V3/nCoV-2019.reference.fasta -w \"MN908947.3:1-29904\" --ploidy 1 -m 0.15 --read-group nCoV-2019_2 \n",
      "[post-run summary] total reads: 31094, unparseable: 0, qc fail: 17, could not calibrate: 4, no alignment: 129, bad fast5: 0\n",
      "\u001b[32m\u001b[22mRunning: \u001b[39m\u001b[22mnanopolish variants --min-flanking-sequence 10 -x 1000000 --progress -t 12 --reads barcode06.fastq -o sample2.2-65.nCoV-2019_1.vcf -b sample2.2-65.trimmed.rg.sorted.bam -g /media/viro102/HDPH-UT1/CORONA/bioinformatics/software/artic-ncov2019/primer_schemes/nCoV-2019/V3/nCoV-2019.reference.fasta -w \"MN908947.3:1-29904\" --ploidy 1 -m 0.15 --read-group nCoV-2019_1 \n",
      "[post-run summary] total reads: 33220, unparseable: 0, qc fail: 17, could not calibrate: 6, no alignment: 106, bad fast5: 0\n",
      "\u001b[32m\u001b[22mRunning: \u001b[39m\u001b[22martic_vcf_merge sample2.2-65 /media/viro102/HDPH-UT1/CORONA/bioinformatics/software/artic-ncov2019/primer_schemes/nCoV-2019/V3/nCoV-2019.scheme.bed nCoV-2019_2:sample2.2-65.nCoV-2019_2.vcf nCoV-2019_1:sample2.2-65.nCoV-2019_1.vcf\n",
      "\u001b[32m\u001b[22mRunning: \u001b[39m\u001b[22martic_vcf_filter --nanopolish sample2.2-65.merged.vcf sample2.2-65.pass.vcf sample2.2-65.fail.vcf\n",
      "\u001b[32m\u001b[22mRunning: \u001b[39m\u001b[22martic_make_depth_mask --store-rg-depths /media/viro102/HDPH-UT1/CORONA/bioinformatics/software/artic-ncov2019/primer_schemes/nCoV-2019/V3/nCoV-2019.reference.fasta sample2.2-65.primertrimmed.rg.sorted.bam sample2.2-65.coverage_mask.txt\n",
      "\u001b[32m\u001b[22mRunning: \u001b[39m\u001b[22martic_plot_amplicon_depth --primerScheme /media/viro102/HDPH-UT1/CORONA/bioinformatics/software/artic-ncov2019/primer_schemes/nCoV-2019/V3/nCoV-2019.scheme.bed --sampleID sample2.2-65 --outFilePrefix sample2.2-65 sample2.2-65*.depths\n",
      "\u001b[32m\u001b[22mRunning: \u001b[39m\u001b[22mbgzip -f sample2.2-65.pass.vcf\n",
      "\u001b[32m\u001b[22mRunning: \u001b[39m\u001b[22mtabix -p vcf sample2.2-65.pass.vcf.gz\n",
      "\u001b[32m\u001b[22mRunning: \u001b[39m\u001b[22martic_mask /media/viro102/HDPH-UT1/CORONA/bioinformatics/software/artic-ncov2019/primer_schemes/nCoV-2019/V3/nCoV-2019.reference.fasta sample2.2-65.coverage_mask.txt sample2.2-65.fail.vcf sample2.2-65.preconsensus.fasta\n",
      "\u001b[32m\u001b[22mRunning: \u001b[39m\u001b[22mbcftools consensus -f sample2.2-65.preconsensus.fasta sample2.2-65.pass.vcf.gz -m sample2.2-65.coverage_mask.txt -o sample2.2-65.consensus.fasta\n",
      "Note: the --sample option not given, applying all records regardless of the genotype\n",
      "The site MN908947.3:8917 overlaps with another variant, skipping...\n",
      "Applied 15 variants\n",
      "\u001b[32m\u001b[22mRunning: \u001b[39m\u001b[22martic_fasta_header sample2.2-65.consensus.fasta \"sample2.2-65/ARTIC/nanopolish\"\n",
      "\u001b[32m\u001b[22mRunning: \u001b[39m\u001b[22mcat sample2.2-65.consensus.fasta /media/viro102/HDPH-UT1/CORONA/bioinformatics/software/artic-ncov2019/primer_schemes/nCoV-2019/V3/nCoV-2019.reference.fasta > sample2.2-65.muscle.in.fasta\n",
      "\u001b[32m\u001b[22mRunning: \u001b[39m\u001b[22mmuscle -in sample2.2-65.muscle.in.fasta -out sample2.2-65.muscle.out.fasta\n",
      "\n",
      "MUSCLE v3.8.1551 by Robert C. Edgar\n",
      "\n",
      "http://www.drive5.com/muscle\n",
      "This software is donated to the public domain.\n",
      "Please cite: Edgar, R.C. Nucleic Acids Res 32(5), 1792-97.\n",
      "\n",
      "sample2.2-65.muscle.in 2 seqs, lengths min 29903, max 29903, avg 29903\n",
      "00:00:00    20 MB(-1%)  Iter   1  100.00%  K-mer dist pass 1\n",
      "00:00:00    20 MB(-1%)  Iter   1  100.00%  K-mer dist pass 2\n",
      "00:00:25  1004 MB(-67%)  Iter   1  100.00%  Align node      \n",
      "00:00:25  1004 MB(-67%)  Iter   1  100.00%  Root alignment\n",
      "ov2_20201217/filtered/barcode06\u001b[00m$ exit/media/viro102/HDPH-UT1/CORONA/Pilot_SARS_Cov2_20201217/filtered/barcode06\u0007\u001b[01;32mviro102@viro102-Precision-Tower-7810\u001b[00m:\u001b[01;34m/media/viro102/HDPH-UT1/CORONA/Pilot_SARS_Co\n",
      "exit\n",
      "Script done, file is ./log.txt\n"
     ]
    }
   ],
   "source": [
    "%%bash\n",
    "cd /media/viro102/HDPH-UT1/CORONA/Pilot_SARS_Cov2_20201217/filtered/barcode06\n",
    "script ./log.txt\n",
    "artic minion --normalise 200 --threads 12 --scheme-directory /media/viro102/HDPH-UT1/CORONA/bioinformatics/software/artic-ncov2019/primer_schemes --read-file barcode06.fastq  --fast5-directory /media/viro102/HDPH-UT1/CORONA/Pilot_SARS_Cov2_20201217/Pilot_SARS-Cov2_20201217/20201217_0712_MN26707_FAL13903_4c35086e/fast5 --sequencing-summary /media/viro102/HDPH-UT1/CORONA/Pilot_SARS_Cov2_20201217/basecalled/sequencing_summary.txt  nCoV-2019/V3 sample2.2-65\n",
    "exit"
   ]
  },
  {
   "cell_type": "code",
   "execution_count": 22,
   "metadata": {},
   "outputs": [
    {
     "name": "stdout",
     "output_type": "stream",
     "text": [
      "Script started, file is ./log.txt\n",
      "artic minion --normalise 200 --threads 12 --scheme-directory /media/viro102/HDPH-UT1/CORONA/bioinformatics/software/artic-ncov2019/primer_schemes --read-file barcode07.fastq  --fast5-directory /media/viro102/HDPH-UT1/CORONA/Pilot_SARS_Cov2_20201217/Pilot_SARS-Cov2_20201217/20201217_0712_MN26707_FAL13903_4c35086e/fast5 --sequencing-summary /media/viro102/HDPH-UT1/CORONA/Pilot_SARS_Cov2_20201217/basecalled/sequencing_summary.txt  nCoV-2019/V3 sample1.1-63\n",
      "exit\n",
      "mple1.1-63_SARS_Cov2_20201217/basecalled/sequencing_summary.txt  nCoV-2019/V3 sam-schev2_20201217/filtered/barcode07\u0007\u001b[01;32mviro102@viro102-Precision-Tower-7810\u001b[00m:\u001b[01;34m/media/viro102/HDPH-UT1/CORONA/Pilot_SARS_Co\n",
      "\u001b[32m\u001b[22mRunning: \u001b[39m\u001b[22mnanopolish index -s /media/viro102/HDPH-UT1/CORONA/Pilot_SARS_Cov2_20201217/basecalled/sequencing_summary.txt -d /media/viro102/HDPH-UT1/CORONA/Pilot_SARS_Cov2_20201217/Pilot_SARS-Cov2_20201217/20201217_0712_MN26707_FAL13903_4c35086e/fast5 barcode07.fastq\n",
      "[readdb] indexing /media/viro102/HDPH-UT1/CORONA/Pilot_SARS_Cov2_20201217/Pilot_SARS-Cov2_20201217/20201217_0712_MN26707_FAL13903_4c35086e/fast5\n",
      "[readdb] num reads: 438853, num reads with path to fast5: 438853\n",
      "\u001b[32m\u001b[22mRunning: \u001b[39m\u001b[22mminimap2 -a -x map-ont -t 12 /media/viro102/HDPH-UT1/CORONA/bioinformatics/software/artic-ncov2019/primer_schemes/nCoV-2019/V3/nCoV-2019.reference.fasta barcode07.fastq | samtools view -bS -F 4 - | samtools sort -o sample1.1-63.sorted.bam -\n",
      "[M::mm_idx_gen::0.005*1.45] collected minimizers\n",
      "[M::mm_idx_gen::0.009*3.82] sorted minimizers\n",
      "[M::main::0.009*3.80] loaded/built the index for 1 target sequence(s)\n",
      "[M::mm_mapopt_update::0.009*3.57] mid_occ = 3\n",
      "[M::mm_idx_stat] kmer size: 15; skip: 10; is_hpc: 0; #seq: 1\n",
      "[M::mm_idx_stat::0.010*3.42] distinct minimizers: 5587 (99.93% are singletons); average occurrences: 1.004; average spacing: 5.332\n",
      "[M::worker_pipeline::30.379*4.69] mapped 438853 sequences\n",
      "[M::main] Version: 2.17-r941\n",
      "[M::main] CMD: minimap2 -a -x map-ont -t 12 /media/viro102/HDPH-UT1/CORONA/bioinformatics/software/artic-ncov2019/primer_schemes/nCoV-2019/V3/nCoV-2019.reference.fasta barcode07.fastq\n",
      "[M::main] Real time: 30.383 sec; CPU: 142.590 sec; Peak RSS: 0.585 GB\n",
      "\u001b[32m\u001b[22mRunning: \u001b[39m\u001b[22msamtools index sample1.1-63.sorted.bam\n",
      "\u001b[32m\u001b[22mRunning: \u001b[39m\u001b[22malign_trim --start --normalise 200 /media/viro102/HDPH-UT1/CORONA/bioinformatics/software/artic-ncov2019/primer_schemes/nCoV-2019/V3/nCoV-2019.scheme.bed --report sample1.1-63.alignreport.txt < sample1.1-63.sorted.bam 2> sample1.1-63.alignreport.er | samtools sort -T sample1.1-63 - -o sample1.1-63.trimmed.rg.sorted.bam\n",
      "\u001b[32m\u001b[22mRunning: \u001b[39m\u001b[22malign_trim --normalise 200 /media/viro102/HDPH-UT1/CORONA/bioinformatics/software/artic-ncov2019/primer_schemes/nCoV-2019/V3/nCoV-2019.scheme.bed --remove-incorrect-pairs --report sample1.1-63.alignreport.txt < sample1.1-63.sorted.bam 2> sample1.1-63.alignreport.er | samtools sort -T sample1.1-63 - -o sample1.1-63.primertrimmed.rg.sorted.bam\n",
      "\u001b[32m\u001b[22mRunning: \u001b[39m\u001b[22msamtools index sample1.1-63.trimmed.rg.sorted.bam\n",
      "\u001b[32m\u001b[22mRunning: \u001b[39m\u001b[22msamtools index sample1.1-63.primertrimmed.rg.sorted.bam\n",
      "\u001b[32m\u001b[22mRunning: \u001b[39m\u001b[22mnanopolish variants --min-flanking-sequence 10 -x 1000000 --progress -t 12 --reads barcode07.fastq -o sample1.1-63.nCoV-2019_1.vcf -b sample1.1-63.trimmed.rg.sorted.bam -g /media/viro102/HDPH-UT1/CORONA/bioinformatics/software/artic-ncov2019/primer_schemes/nCoV-2019/V3/nCoV-2019.reference.fasta -w \"MN908947.3:1-29904\" --ploidy 1 -m 0.15 --read-group nCoV-2019_1 \n",
      "[post-run summary] total reads: 36996, unparseable: 0, qc fail: 14, could not calibrate: 5, no alignment: 128, bad fast5: 0\n",
      "\u001b[32m\u001b[22mRunning: \u001b[39m\u001b[22mnanopolish variants --min-flanking-sequence 10 -x 1000000 --progress -t 12 --reads barcode07.fastq -o sample1.1-63.nCoV-2019_2.vcf -b sample1.1-63.trimmed.rg.sorted.bam -g /media/viro102/HDPH-UT1/CORONA/bioinformatics/software/artic-ncov2019/primer_schemes/nCoV-2019/V3/nCoV-2019.reference.fasta -w \"MN908947.3:1-29904\" --ploidy 1 -m 0.15 --read-group nCoV-2019_2 \n",
      "[post-run summary] total reads: 35410, unparseable: 0, qc fail: 23, could not calibrate: 5, no alignment: 164, bad fast5: 0\n",
      "\u001b[32m\u001b[22mRunning: \u001b[39m\u001b[22martic_vcf_merge sample1.1-63 /media/viro102/HDPH-UT1/CORONA/bioinformatics/software/artic-ncov2019/primer_schemes/nCoV-2019/V3/nCoV-2019.scheme.bed nCoV-2019_1:sample1.1-63.nCoV-2019_1.vcf nCoV-2019_2:sample1.1-63.nCoV-2019_2.vcf\n",
      "\u001b[32m\u001b[22mRunning: \u001b[39m\u001b[22martic_vcf_filter --nanopolish sample1.1-63.merged.vcf sample1.1-63.pass.vcf sample1.1-63.fail.vcf\n",
      "\u001b[32m\u001b[22mRunning: \u001b[39m\u001b[22martic_make_depth_mask --store-rg-depths /media/viro102/HDPH-UT1/CORONA/bioinformatics/software/artic-ncov2019/primer_schemes/nCoV-2019/V3/nCoV-2019.reference.fasta sample1.1-63.primertrimmed.rg.sorted.bam sample1.1-63.coverage_mask.txt\n",
      "\u001b[32m\u001b[22mRunning: \u001b[39m\u001b[22martic_plot_amplicon_depth --primerScheme /media/viro102/HDPH-UT1/CORONA/bioinformatics/software/artic-ncov2019/primer_schemes/nCoV-2019/V3/nCoV-2019.scheme.bed --sampleID sample1.1-63 --outFilePrefix sample1.1-63 sample1.1-63*.depths\n",
      "\u001b[32m\u001b[22mRunning: \u001b[39m\u001b[22mbgzip -f sample1.1-63.pass.vcf\n",
      "\u001b[32m\u001b[22mRunning: \u001b[39m\u001b[22mtabix -p vcf sample1.1-63.pass.vcf.gz\n",
      "\u001b[32m\u001b[22mRunning: \u001b[39m\u001b[22martic_mask /media/viro102/HDPH-UT1/CORONA/bioinformatics/software/artic-ncov2019/primer_schemes/nCoV-2019/V3/nCoV-2019.reference.fasta sample1.1-63.coverage_mask.txt sample1.1-63.fail.vcf sample1.1-63.preconsensus.fasta\n",
      "\u001b[32m\u001b[22mRunning: \u001b[39m\u001b[22mbcftools consensus -f sample1.1-63.preconsensus.fasta sample1.1-63.pass.vcf.gz -m sample1.1-63.coverage_mask.txt -o sample1.1-63.consensus.fasta\n",
      "Note: the --sample option not given, applying all records regardless of the genotype\n",
      "Applied 4 variants\n",
      "\u001b[32m\u001b[22mRunning: \u001b[39m\u001b[22martic_fasta_header sample1.1-63.consensus.fasta \"sample1.1-63/ARTIC/nanopolish\"\n",
      "\u001b[32m\u001b[22mRunning: \u001b[39m\u001b[22mcat sample1.1-63.consensus.fasta /media/viro102/HDPH-UT1/CORONA/bioinformatics/software/artic-ncov2019/primer_schemes/nCoV-2019/V3/nCoV-2019.reference.fasta > sample1.1-63.muscle.in.fasta\n",
      "\u001b[32m\u001b[22mRunning: \u001b[39m\u001b[22mmuscle -in sample1.1-63.muscle.in.fasta -out sample1.1-63.muscle.out.fasta\n",
      "\n",
      "MUSCLE v3.8.1551 by Robert C. Edgar\n",
      "\n",
      "http://www.drive5.com/muscle\n",
      "This software is donated to the public domain.\n",
      "Please cite: Edgar, R.C. Nucleic Acids Res 32(5), 1792-97.\n",
      "\n",
      "sample1.1-63.muscle.in 2 seqs, lengths min 29886, max 29903, avg 29894\n",
      "00:00:00    20 MB(-1%)  Iter   1  100.00%  K-mer dist pass 1\n",
      "00:00:00    20 MB(-1%)  Iter   1  100.00%  K-mer dist pass 2\n",
      "00:00:26  1003 MB(-67%)  Iter   1  100.00%  Align node      \n",
      "00:00:26  1003 MB(-67%)  Iter   1  100.00%  Root alignment\n",
      "ov2_20201217/filtered/barcode07\u001b[00m$ exit/media/viro102/HDPH-UT1/CORONA/Pilot_SARS_Cov2_20201217/filtered/barcode07\u0007\u001b[01;32mviro102@viro102-Precision-Tower-7810\u001b[00m:\u001b[01;34m/media/viro102/HDPH-UT1/CORONA/Pilot_SARS_Co\n",
      "exit\n",
      "Script done, file is ./log.txt\n"
     ]
    }
   ],
   "source": [
    "%%bash\n",
    "cd /media/viro102/HDPH-UT1/CORONA/Pilot_SARS_Cov2_20201217/filtered/barcode07\n",
    "script ./log.txt\n",
    "artic minion --normalise 200 --threads 12 --scheme-directory /media/viro102/HDPH-UT1/CORONA/bioinformatics/software/artic-ncov2019/primer_schemes --read-file barcode07.fastq  --fast5-directory /media/viro102/HDPH-UT1/CORONA/Pilot_SARS_Cov2_20201217/Pilot_SARS-Cov2_20201217/20201217_0712_MN26707_FAL13903_4c35086e/fast5 --sequencing-summary /media/viro102/HDPH-UT1/CORONA/Pilot_SARS_Cov2_20201217/basecalled/sequencing_summary.txt  nCoV-2019/V3 sample1.1-63\n",
    "exit"
   ]
  },
  {
   "cell_type": "code",
   "execution_count": 23,
   "metadata": {},
   "outputs": [
    {
     "name": "stdout",
     "output_type": "stream",
     "text": [
      "Script started, file is ./log.txt\n",
      "artic minion --normalise 200 --threads 12 --scheme-directory /media/viro102/HDPH-UT1/CORONA/bioinformatics/software/artic-ncov2019/primer_schemes --read-file barcode08.fastq  --fast5-directory /media/viro102/HDPH-UT1/CORONA/Pilot_SARS_Cov2_20201217/Pilot_SARS-Cov2_20201217/20201217_0712_MN26707_FAL13903_4c35086e/fast5 --sequencing-summary /media/viro102/HDPH-UT1/CORONA/Pilot_SARS_Cov2_20201217/basecalled/sequencing_summary.txt  nCoV-2019/V3 sample1.4-63\n",
      "exit\n",
      "mple1.4-63_SARS_Cov2_20201217/basecalled/sequencing_summary.txt  nCoV-2019/V3 sam-schev2_20201217/filtered/barcode08\u0007\u001b[01;32mviro102@viro102-Precision-Tower-7810\u001b[00m:\u001b[01;34m/media/viro102/HDPH-UT1/CORONA/Pilot_SARS_Co\n",
      "\u001b[32m\u001b[22mRunning: \u001b[39m\u001b[22mnanopolish index -s /media/viro102/HDPH-UT1/CORONA/Pilot_SARS_Cov2_20201217/basecalled/sequencing_summary.txt -d /media/viro102/HDPH-UT1/CORONA/Pilot_SARS_Cov2_20201217/Pilot_SARS-Cov2_20201217/20201217_0712_MN26707_FAL13903_4c35086e/fast5 barcode08.fastq\n",
      "[readdb] indexing /media/viro102/HDPH-UT1/CORONA/Pilot_SARS_Cov2_20201217/Pilot_SARS-Cov2_20201217/20201217_0712_MN26707_FAL13903_4c35086e/fast5\n",
      "[readdb] num reads: 332210, num reads with path to fast5: 332210\n",
      "\u001b[32m\u001b[22mRunning: \u001b[39m\u001b[22mminimap2 -a -x map-ont -t 12 /media/viro102/HDPH-UT1/CORONA/bioinformatics/software/artic-ncov2019/primer_schemes/nCoV-2019/V3/nCoV-2019.reference.fasta barcode08.fastq | samtools view -bS -F 4 - | samtools sort -o sample1.4-63.sorted.bam -\n",
      "[M::mm_idx_gen::0.005*1.38] collected minimizers\n",
      "[M::mm_idx_gen::0.008*3.67] sorted minimizers\n",
      "[M::main::0.008*3.66] loaded/built the index for 1 target sequence(s)\n",
      "[M::mm_mapopt_update::0.009*3.48] mid_occ = 3\n",
      "[M::mm_idx_stat] kmer size: 15; skip: 10; is_hpc: 0; #seq: 1\n",
      "[M::mm_idx_stat::0.009*3.37] distinct minimizers: 5587 (99.93% are singletons); average occurrences: 1.004; average spacing: 5.332\n",
      "[M::worker_pipeline::22.824*4.78] mapped 332210 sequences\n",
      "[M::main] Version: 2.17-r941\n",
      "[M::main] CMD: minimap2 -a -x map-ont -t 12 /media/viro102/HDPH-UT1/CORONA/bioinformatics/software/artic-ncov2019/primer_schemes/nCoV-2019/V3/nCoV-2019.reference.fasta barcode08.fastq\n",
      "[M::main] Real time: 22.829 sec; CPU: 109.144 sec; Peak RSS: 0.443 GB\n",
      "\u001b[32m\u001b[22mRunning: \u001b[39m\u001b[22msamtools index sample1.4-63.sorted.bam\n",
      "\u001b[32m\u001b[22mRunning: \u001b[39m\u001b[22malign_trim --start --normalise 200 /media/viro102/HDPH-UT1/CORONA/bioinformatics/software/artic-ncov2019/primer_schemes/nCoV-2019/V3/nCoV-2019.scheme.bed --report sample1.4-63.alignreport.txt < sample1.4-63.sorted.bam 2> sample1.4-63.alignreport.er | samtools sort -T sample1.4-63 - -o sample1.4-63.trimmed.rg.sorted.bam\n",
      "\u001b[32m\u001b[22mRunning: \u001b[39m\u001b[22malign_trim --normalise 200 /media/viro102/HDPH-UT1/CORONA/bioinformatics/software/artic-ncov2019/primer_schemes/nCoV-2019/V3/nCoV-2019.scheme.bed --remove-incorrect-pairs --report sample1.4-63.alignreport.txt < sample1.4-63.sorted.bam 2> sample1.4-63.alignreport.er | samtools sort -T sample1.4-63 - -o sample1.4-63.primertrimmed.rg.sorted.bam\n",
      "\u001b[32m\u001b[22mRunning: \u001b[39m\u001b[22msamtools index sample1.4-63.trimmed.rg.sorted.bam\n",
      "\u001b[32m\u001b[22mRunning: \u001b[39m\u001b[22msamtools index sample1.4-63.primertrimmed.rg.sorted.bam\n",
      "\u001b[32m\u001b[22mRunning: \u001b[39m\u001b[22mnanopolish variants --min-flanking-sequence 10 -x 1000000 --progress -t 12 --reads barcode08.fastq -o sample1.4-63.nCoV-2019_1.vcf -b sample1.4-63.trimmed.rg.sorted.bam -g /media/viro102/HDPH-UT1/CORONA/bioinformatics/software/artic-ncov2019/primer_schemes/nCoV-2019/V3/nCoV-2019.reference.fasta -w \"MN908947.3:1-29904\" --ploidy 1 -m 0.15 --read-group nCoV-2019_1 \n",
      "[post-run summary] total reads: 36175, unparseable: 0, qc fail: 12, could not calibrate: 6, no alignment: 128, bad fast5: 0\n",
      "\u001b[32m\u001b[22mRunning: \u001b[39m\u001b[22mnanopolish variants --min-flanking-sequence 10 -x 1000000 --progress -t 12 --reads barcode08.fastq -o sample1.4-63.nCoV-2019_2.vcf -b sample1.4-63.trimmed.rg.sorted.bam -g /media/viro102/HDPH-UT1/CORONA/bioinformatics/software/artic-ncov2019/primer_schemes/nCoV-2019/V3/nCoV-2019.reference.fasta -w \"MN908947.3:1-29904\" --ploidy 1 -m 0.15 --read-group nCoV-2019_2 \n",
      "[post-run summary] total reads: 34361, unparseable: 0, qc fail: 23, could not calibrate: 5, no alignment: 124, bad fast5: 0\n",
      "\u001b[32m\u001b[22mRunning: \u001b[39m\u001b[22martic_vcf_merge sample1.4-63 /media/viro102/HDPH-UT1/CORONA/bioinformatics/software/artic-ncov2019/primer_schemes/nCoV-2019/V3/nCoV-2019.scheme.bed nCoV-2019_1:sample1.4-63.nCoV-2019_1.vcf nCoV-2019_2:sample1.4-63.nCoV-2019_2.vcf\n",
      "\u001b[32m\u001b[22mRunning: \u001b[39m\u001b[22martic_vcf_filter --nanopolish sample1.4-63.merged.vcf sample1.4-63.pass.vcf sample1.4-63.fail.vcf\n",
      "\u001b[32m\u001b[22mRunning: \u001b[39m\u001b[22martic_make_depth_mask --store-rg-depths /media/viro102/HDPH-UT1/CORONA/bioinformatics/software/artic-ncov2019/primer_schemes/nCoV-2019/V3/nCoV-2019.reference.fasta sample1.4-63.primertrimmed.rg.sorted.bam sample1.4-63.coverage_mask.txt\n",
      "\u001b[32m\u001b[22mRunning: \u001b[39m\u001b[22martic_plot_amplicon_depth --primerScheme /media/viro102/HDPH-UT1/CORONA/bioinformatics/software/artic-ncov2019/primer_schemes/nCoV-2019/V3/nCoV-2019.scheme.bed --sampleID sample1.4-63 --outFilePrefix sample1.4-63 sample1.4-63*.depths\n",
      "\u001b[32m\u001b[22mRunning: \u001b[39m\u001b[22mbgzip -f sample1.4-63.pass.vcf\n",
      "\u001b[32m\u001b[22mRunning: \u001b[39m\u001b[22mtabix -p vcf sample1.4-63.pass.vcf.gz\n",
      "\u001b[32m\u001b[22mRunning: \u001b[39m\u001b[22martic_mask /media/viro102/HDPH-UT1/CORONA/bioinformatics/software/artic-ncov2019/primer_schemes/nCoV-2019/V3/nCoV-2019.reference.fasta sample1.4-63.coverage_mask.txt sample1.4-63.fail.vcf sample1.4-63.preconsensus.fasta\n",
      "\u001b[32m\u001b[22mRunning: \u001b[39m\u001b[22mbcftools consensus -f sample1.4-63.preconsensus.fasta sample1.4-63.pass.vcf.gz -m sample1.4-63.coverage_mask.txt -o sample1.4-63.consensus.fasta\n",
      "Note: the --sample option not given, applying all records regardless of the genotype\n",
      "Applied 4 variants\n",
      "\u001b[32m\u001b[22mRunning: \u001b[39m\u001b[22martic_fasta_header sample1.4-63.consensus.fasta \"sample1.4-63/ARTIC/nanopolish\"\n",
      "\u001b[32m\u001b[22mRunning: \u001b[39m\u001b[22mcat sample1.4-63.consensus.fasta /media/viro102/HDPH-UT1/CORONA/bioinformatics/software/artic-ncov2019/primer_schemes/nCoV-2019/V3/nCoV-2019.reference.fasta > sample1.4-63.muscle.in.fasta\n",
      "\u001b[32m\u001b[22mRunning: \u001b[39m\u001b[22mmuscle -in sample1.4-63.muscle.in.fasta -out sample1.4-63.muscle.out.fasta\n",
      "\n",
      "MUSCLE v3.8.1551 by Robert C. Edgar\n",
      "\n",
      "http://www.drive5.com/muscle\n",
      "This software is donated to the public domain.\n",
      "Please cite: Edgar, R.C. Nucleic Acids Res 32(5), 1792-97.\n",
      "\n",
      "sample1.4-63.muscle.in 2 seqs, lengths min 29886, max 29903, avg 29894\n",
      "00:00:00    20 MB(-1%)  Iter   1  100.00%  K-mer dist pass 1\n",
      "00:00:00    20 MB(-1%)  Iter   1  100.00%  K-mer dist pass 2\n",
      "00:00:26  1003 MB(-67%)  Iter   1  100.00%  Align node      \n",
      "00:00:26  1003 MB(-67%)  Iter   1  100.00%  Root alignment\n",
      "ov2_20201217/filtered/barcode08\u001b[00m$ exit/media/viro102/HDPH-UT1/CORONA/Pilot_SARS_Cov2_20201217/filtered/barcode08\u0007\u001b[01;32mviro102@viro102-Precision-Tower-7810\u001b[00m:\u001b[01;34m/media/viro102/HDPH-UT1/CORONA/Pilot_SARS_Co\n",
      "exit\n",
      "Script done, file is ./log.txt\n"
     ]
    }
   ],
   "source": [
    "%%bash\n",
    "cd /media/viro102/HDPH-UT1/CORONA/Pilot_SARS_Cov2_20201217/filtered/barcode08\n",
    "script ./log.txt\n",
    "artic minion --normalise 200 --threads 12 --scheme-directory /media/viro102/HDPH-UT1/CORONA/bioinformatics/software/artic-ncov2019/primer_schemes --read-file barcode08.fastq  --fast5-directory /media/viro102/HDPH-UT1/CORONA/Pilot_SARS_Cov2_20201217/Pilot_SARS-Cov2_20201217/20201217_0712_MN26707_FAL13903_4c35086e/fast5 --sequencing-summary /media/viro102/HDPH-UT1/CORONA/Pilot_SARS_Cov2_20201217/basecalled/sequencing_summary.txt  nCoV-2019/V3 sample1.4-63\n",
    "exit"
   ]
  },
  {
   "cell_type": "code",
   "execution_count": 24,
   "metadata": {},
   "outputs": [
    {
     "name": "stdout",
     "output_type": "stream",
     "text": [
      "Script started, file is ./log.txt\n",
      "artic minion --normalise 200 --threads 12 --scheme-directory /media/viro102/HDPH-UT1/CORONA/bioinformatics/software/artic-ncov2019/primer_schemes --read-file barcode09.fastq  --fast5-directory /media/viro102/HDPH-UT1/CORONA/Pilot_SARS_Cov2_20201217/Pilot_SARS-Cov2_20201217/20201217_0712_MN26707_FAL13903_4c35086e/fast5 --sequencing-summary /media/viro102/HDPH-UT1/CORONA/Pilot_SARS_Cov2_20201217/basecalled/sequencing_summary.txt  nCoV-2019/V3 sample2.3-63\n",
      "exit\n",
      "mple2.3-63_SARS_Cov2_20201217/basecalled/sequencing_summary.txt  nCoV-2019/V3 sam-schev2_20201217/filtered/barcode09\u0007\u001b[01;32mviro102@viro102-Precision-Tower-7810\u001b[00m:\u001b[01;34m/media/viro102/HDPH-UT1/CORONA/Pilot_SARS_Co\n",
      "\u001b[32m\u001b[22mRunning: \u001b[39m\u001b[22mnanopolish index -s /media/viro102/HDPH-UT1/CORONA/Pilot_SARS_Cov2_20201217/basecalled/sequencing_summary.txt -d /media/viro102/HDPH-UT1/CORONA/Pilot_SARS_Cov2_20201217/Pilot_SARS-Cov2_20201217/20201217_0712_MN26707_FAL13903_4c35086e/fast5 barcode09.fastq\n",
      "[readdb] indexing /media/viro102/HDPH-UT1/CORONA/Pilot_SARS_Cov2_20201217/Pilot_SARS-Cov2_20201217/20201217_0712_MN26707_FAL13903_4c35086e/fast5\n",
      "[readdb] num reads: 333433, num reads with path to fast5: 333433\n",
      "\u001b[32m\u001b[22mRunning: \u001b[39m\u001b[22mminimap2 -a -x map-ont -t 12 /media/viro102/HDPH-UT1/CORONA/bioinformatics/software/artic-ncov2019/primer_schemes/nCoV-2019/V3/nCoV-2019.reference.fasta barcode09.fastq | samtools view -bS -F 4 - | samtools sort -o sample2.3-63.sorted.bam -\n",
      "[M::mm_idx_gen::0.005*1.45] collected minimizers\n",
      "[M::mm_idx_gen::0.008*3.54] sorted minimizers\n",
      "[M::main::0.008*3.53] loaded/built the index for 1 target sequence(s)\n",
      "[M::mm_mapopt_update::0.009*3.32] mid_occ = 3\n",
      "[M::mm_idx_stat] kmer size: 15; skip: 10; is_hpc: 0; #seq: 1\n",
      "[M::mm_idx_stat::0.010*3.18] distinct minimizers: 5587 (99.93% are singletons); average occurrences: 1.004; average spacing: 5.332\n",
      "[M::worker_pipeline::22.774*4.78] mapped 333433 sequences\n",
      "[M::main] Version: 2.17-r941\n",
      "[M::main] CMD: minimap2 -a -x map-ont -t 12 /media/viro102/HDPH-UT1/CORONA/bioinformatics/software/artic-ncov2019/primer_schemes/nCoV-2019/V3/nCoV-2019.reference.fasta barcode09.fastq\n",
      "[M::main] Real time: 22.779 sec; CPU: 108.879 sec; Peak RSS: 0.444 GB\n",
      "\u001b[32m\u001b[22mRunning: \u001b[39m\u001b[22msamtools index sample2.3-63.sorted.bam\n",
      "\u001b[32m\u001b[22mRunning: \u001b[39m\u001b[22malign_trim --start --normalise 200 /media/viro102/HDPH-UT1/CORONA/bioinformatics/software/artic-ncov2019/primer_schemes/nCoV-2019/V3/nCoV-2019.scheme.bed --report sample2.3-63.alignreport.txt < sample2.3-63.sorted.bam 2> sample2.3-63.alignreport.er | samtools sort -T sample2.3-63 - -o sample2.3-63.trimmed.rg.sorted.bam\n",
      "\u001b[32m\u001b[22mRunning: \u001b[39m\u001b[22malign_trim --normalise 200 /media/viro102/HDPH-UT1/CORONA/bioinformatics/software/artic-ncov2019/primer_schemes/nCoV-2019/V3/nCoV-2019.scheme.bed --remove-incorrect-pairs --report sample2.3-63.alignreport.txt < sample2.3-63.sorted.bam 2> sample2.3-63.alignreport.er | samtools sort -T sample2.3-63 - -o sample2.3-63.primertrimmed.rg.sorted.bam\n",
      "\u001b[32m\u001b[22mRunning: \u001b[39m\u001b[22msamtools index sample2.3-63.trimmed.rg.sorted.bam\n",
      "\u001b[32m\u001b[22mRunning: \u001b[39m\u001b[22msamtools index sample2.3-63.primertrimmed.rg.sorted.bam\n",
      "\u001b[32m\u001b[22mRunning: \u001b[39m\u001b[22mnanopolish variants --min-flanking-sequence 10 -x 1000000 --progress -t 12 --reads barcode09.fastq -o sample2.3-63.nCoV-2019_1.vcf -b sample2.3-63.trimmed.rg.sorted.bam -g /media/viro102/HDPH-UT1/CORONA/bioinformatics/software/artic-ncov2019/primer_schemes/nCoV-2019/V3/nCoV-2019.reference.fasta -w \"MN908947.3:1-29904\" --ploidy 1 -m 0.15 --read-group nCoV-2019_1 \n",
      "[post-run summary] total reads: 36063, unparseable: 0, qc fail: 23, could not calibrate: 4, no alignment: 117, bad fast5: 0\n",
      "\u001b[32m\u001b[22mRunning: \u001b[39m\u001b[22mnanopolish variants --min-flanking-sequence 10 -x 1000000 --progress -t 12 --reads barcode09.fastq -o sample2.3-63.nCoV-2019_2.vcf -b sample2.3-63.trimmed.rg.sorted.bam -g /media/viro102/HDPH-UT1/CORONA/bioinformatics/software/artic-ncov2019/primer_schemes/nCoV-2019/V3/nCoV-2019.reference.fasta -w \"MN908947.3:1-29904\" --ploidy 1 -m 0.15 --read-group nCoV-2019_2 \n",
      "[post-run summary] total reads: 34217, unparseable: 0, qc fail: 27, could not calibrate: 1, no alignment: 150, bad fast5: 0\n",
      "\u001b[32m\u001b[22mRunning: \u001b[39m\u001b[22martic_vcf_merge sample2.3-63 /media/viro102/HDPH-UT1/CORONA/bioinformatics/software/artic-ncov2019/primer_schemes/nCoV-2019/V3/nCoV-2019.scheme.bed nCoV-2019_1:sample2.3-63.nCoV-2019_1.vcf nCoV-2019_2:sample2.3-63.nCoV-2019_2.vcf\n",
      "\u001b[32m\u001b[22mRunning: \u001b[39m\u001b[22martic_vcf_filter --nanopolish sample2.3-63.merged.vcf sample2.3-63.pass.vcf sample2.3-63.fail.vcf\n",
      "\u001b[32m\u001b[22mRunning: \u001b[39m\u001b[22martic_make_depth_mask --store-rg-depths /media/viro102/HDPH-UT1/CORONA/bioinformatics/software/artic-ncov2019/primer_schemes/nCoV-2019/V3/nCoV-2019.reference.fasta sample2.3-63.primertrimmed.rg.sorted.bam sample2.3-63.coverage_mask.txt\n",
      "\u001b[32m\u001b[22mRunning: \u001b[39m\u001b[22martic_plot_amplicon_depth --primerScheme /media/viro102/HDPH-UT1/CORONA/bioinformatics/software/artic-ncov2019/primer_schemes/nCoV-2019/V3/nCoV-2019.scheme.bed --sampleID sample2.3-63 --outFilePrefix sample2.3-63 sample2.3-63*.depths\n",
      "\u001b[32m\u001b[22mRunning: \u001b[39m\u001b[22mbgzip -f sample2.3-63.pass.vcf\n",
      "\u001b[32m\u001b[22mRunning: \u001b[39m\u001b[22mtabix -p vcf sample2.3-63.pass.vcf.gz\n",
      "\u001b[32m\u001b[22mRunning: \u001b[39m\u001b[22martic_mask /media/viro102/HDPH-UT1/CORONA/bioinformatics/software/artic-ncov2019/primer_schemes/nCoV-2019/V3/nCoV-2019.reference.fasta sample2.3-63.coverage_mask.txt sample2.3-63.fail.vcf sample2.3-63.preconsensus.fasta\n",
      "\u001b[32m\u001b[22mRunning: \u001b[39m\u001b[22mbcftools consensus -f sample2.3-63.preconsensus.fasta sample2.3-63.pass.vcf.gz -m sample2.3-63.coverage_mask.txt -o sample2.3-63.consensus.fasta\n",
      "Note: the --sample option not given, applying all records regardless of the genotype\n",
      "The site MN908947.3:8917 overlaps with another variant, skipping...\n",
      "Applied 16 variants\n",
      "\u001b[32m\u001b[22mRunning: \u001b[39m\u001b[22martic_fasta_header sample2.3-63.consensus.fasta \"sample2.3-63/ARTIC/nanopolish\"\n",
      "\u001b[32m\u001b[22mRunning: \u001b[39m\u001b[22mcat sample2.3-63.consensus.fasta /media/viro102/HDPH-UT1/CORONA/bioinformatics/software/artic-ncov2019/primer_schemes/nCoV-2019/V3/nCoV-2019.reference.fasta > sample2.3-63.muscle.in.fasta\n",
      "\u001b[32m\u001b[22mRunning: \u001b[39m\u001b[22mmuscle -in sample2.3-63.muscle.in.fasta -out sample2.3-63.muscle.out.fasta\n",
      "\n",
      "MUSCLE v3.8.1551 by Robert C. Edgar\n",
      "\n",
      "http://www.drive5.com/muscle\n",
      "This software is donated to the public domain.\n",
      "Please cite: Edgar, R.C. Nucleic Acids Res 32(5), 1792-97.\n",
      "\n",
      "sample2.3-63.muscle.in 2 seqs, lengths min 29894, max 29903, avg 29898\n",
      "00:00:00    20 MB(-1%)  Iter   1  100.00%  K-mer dist pass 1\n",
      "00:00:00    20 MB(-1%)  Iter   1  100.00%  K-mer dist pass 2\n",
      "00:00:25  1003 MB(-67%)  Iter   1  100.00%  Align node      \n",
      "00:00:25  1004 MB(-67%)  Iter   1  100.00%  Root alignment\n",
      "ov2_20201217/filtered/barcode09\u001b[00m$ exit/media/viro102/HDPH-UT1/CORONA/Pilot_SARS_Cov2_20201217/filtered/barcode09\u0007\u001b[01;32mviro102@viro102-Precision-Tower-7810\u001b[00m:\u001b[01;34m/media/viro102/HDPH-UT1/CORONA/Pilot_SARS_Co\n",
      "exit\n",
      "Script done, file is ./log.txt\n"
     ]
    }
   ],
   "source": [
    "%%bash\n",
    "cd /media/viro102/HDPH-UT1/CORONA/Pilot_SARS_Cov2_20201217/filtered/barcode09\n",
    "script ./log.txt\n",
    "artic minion --normalise 200 --threads 12 --scheme-directory /media/viro102/HDPH-UT1/CORONA/bioinformatics/software/artic-ncov2019/primer_schemes --read-file barcode09.fastq  --fast5-directory /media/viro102/HDPH-UT1/CORONA/Pilot_SARS_Cov2_20201217/Pilot_SARS-Cov2_20201217/20201217_0712_MN26707_FAL13903_4c35086e/fast5 --sequencing-summary /media/viro102/HDPH-UT1/CORONA/Pilot_SARS_Cov2_20201217/basecalled/sequencing_summary.txt  nCoV-2019/V3 sample2.3-63\n",
    "exit"
   ]
  },
  {
   "cell_type": "code",
   "execution_count": 25,
   "metadata": {},
   "outputs": [
    {
     "name": "stdout",
     "output_type": "stream",
     "text": [
      "Script started, file is ./log.txt\n",
      "artic minion --normalise 200 --threads 12 --scheme-directory /media/viro102/HDPH-UT1/CORONA/bioinformatics/software/artic-ncov2019/primer_schemes --read-file barcode10.fastq  --fast5-directory /media/viro102/HDPH-UT1/CORONA/Pilot_SARS_Cov2_20201217/Pilot_SARS-Cov2_20201217/20201217_0712_MN26707_FAL13903_4c35086e/fast5 --sequencing-summary /media/viro102/HDPH-UT1/CORONA/Pilot_SARS_Cov2_20201217/basecalled/sequencing_summary.txt  nCoV-2019/V3 sample2.5-63\n",
      "exit\n",
      "mple2.5-63_SARS_Cov2_20201217/basecalled/sequencing_summary.txt  nCoV-2019/V3 sam-schev2_20201217/filtered/barcode10\u0007\u001b[01;32mviro102@viro102-Precision-Tower-7810\u001b[00m:\u001b[01;34m/media/viro102/HDPH-UT1/CORONA/Pilot_SARS_Co\n",
      "\u001b[32m\u001b[22mRunning: \u001b[39m\u001b[22mnanopolish index -s /media/viro102/HDPH-UT1/CORONA/Pilot_SARS_Cov2_20201217/basecalled/sequencing_summary.txt -d /media/viro102/HDPH-UT1/CORONA/Pilot_SARS_Cov2_20201217/Pilot_SARS-Cov2_20201217/20201217_0712_MN26707_FAL13903_4c35086e/fast5 barcode10.fastq\n",
      "[readdb] indexing /media/viro102/HDPH-UT1/CORONA/Pilot_SARS_Cov2_20201217/Pilot_SARS-Cov2_20201217/20201217_0712_MN26707_FAL13903_4c35086e/fast5\n",
      "[readdb] num reads: 141492, num reads with path to fast5: 141492\n",
      "\u001b[32m\u001b[22mRunning: \u001b[39m\u001b[22mminimap2 -a -x map-ont -t 12 /media/viro102/HDPH-UT1/CORONA/bioinformatics/software/artic-ncov2019/primer_schemes/nCoV-2019/V3/nCoV-2019.reference.fasta barcode10.fastq | samtools view -bS -F 4 - | samtools sort -o sample2.5-63.sorted.bam -\n",
      "[M::mm_idx_gen::0.005*1.45] collected minimizers\n",
      "[M::mm_idx_gen::0.008*3.54] sorted minimizers\n",
      "[M::main::0.008*3.53] loaded/built the index for 1 target sequence(s)\n",
      "[M::mm_mapopt_update::0.009*3.34] mid_occ = 3\n",
      "[M::mm_idx_stat] kmer size: 15; skip: 10; is_hpc: 0; #seq: 1\n",
      "[M::mm_idx_stat::0.009*3.23] distinct minimizers: 5587 (99.93% are singletons); average occurrences: 1.004; average spacing: 5.332\n",
      "[M::worker_pipeline::9.567*4.80] mapped 141492 sequences\n",
      "[M::main] Version: 2.17-r941\n",
      "[M::main] CMD: minimap2 -a -x map-ont -t 12 /media/viro102/HDPH-UT1/CORONA/bioinformatics/software/artic-ncov2019/primer_schemes/nCoV-2019/V3/nCoV-2019.reference.fasta barcode10.fastq\n",
      "[M::main] Real time: 9.570 sec; CPU: 45.900 sec; Peak RSS: 0.194 GB\n",
      "\u001b[32m\u001b[22mRunning: \u001b[39m\u001b[22msamtools index sample2.5-63.sorted.bam\n",
      "\u001b[32m\u001b[22mRunning: \u001b[39m\u001b[22malign_trim --start --normalise 200 /media/viro102/HDPH-UT1/CORONA/bioinformatics/software/artic-ncov2019/primer_schemes/nCoV-2019/V3/nCoV-2019.scheme.bed --report sample2.5-63.alignreport.txt < sample2.5-63.sorted.bam 2> sample2.5-63.alignreport.er | samtools sort -T sample2.5-63 - -o sample2.5-63.trimmed.rg.sorted.bam\n",
      "\u001b[32m\u001b[22mRunning: \u001b[39m\u001b[22malign_trim --normalise 200 /media/viro102/HDPH-UT1/CORONA/bioinformatics/software/artic-ncov2019/primer_schemes/nCoV-2019/V3/nCoV-2019.scheme.bed --remove-incorrect-pairs --report sample2.5-63.alignreport.txt < sample2.5-63.sorted.bam 2> sample2.5-63.alignreport.er | samtools sort -T sample2.5-63 - -o sample2.5-63.primertrimmed.rg.sorted.bam\n",
      "\u001b[32m\u001b[22mRunning: \u001b[39m\u001b[22msamtools index sample2.5-63.trimmed.rg.sorted.bam\n",
      "\u001b[32m\u001b[22mRunning: \u001b[39m\u001b[22msamtools index sample2.5-63.primertrimmed.rg.sorted.bam\n",
      "\u001b[32m\u001b[22mRunning: \u001b[39m\u001b[22mnanopolish variants --min-flanking-sequence 10 -x 1000000 --progress -t 12 --reads barcode10.fastq -o sample2.5-63.nCoV-2019_2.vcf -b sample2.5-63.trimmed.rg.sorted.bam -g /media/viro102/HDPH-UT1/CORONA/bioinformatics/software/artic-ncov2019/primer_schemes/nCoV-2019/V3/nCoV-2019.reference.fasta -w \"MN908947.3:1-29904\" --ploidy 1 -m 0.15 --read-group nCoV-2019_2 \n",
      "[post-run summary] total reads: 29018, unparseable: 0, qc fail: 14, could not calibrate: 4, no alignment: 118, bad fast5: 0\n",
      "\u001b[32m\u001b[22mRunning: \u001b[39m\u001b[22mnanopolish variants --min-flanking-sequence 10 -x 1000000 --progress -t 12 --reads barcode10.fastq -o sample2.5-63.nCoV-2019_1.vcf -b sample2.5-63.trimmed.rg.sorted.bam -g /media/viro102/HDPH-UT1/CORONA/bioinformatics/software/artic-ncov2019/primer_schemes/nCoV-2019/V3/nCoV-2019.reference.fasta -w \"MN908947.3:1-29904\" --ploidy 1 -m 0.15 --read-group nCoV-2019_1 \n",
      "[post-run summary] total reads: 29148, unparseable: 0, qc fail: 17, could not calibrate: 5, no alignment: 83, bad fast5: 0\n",
      "\u001b[32m\u001b[22mRunning: \u001b[39m\u001b[22martic_vcf_merge sample2.5-63 /media/viro102/HDPH-UT1/CORONA/bioinformatics/software/artic-ncov2019/primer_schemes/nCoV-2019/V3/nCoV-2019.scheme.bed nCoV-2019_2:sample2.5-63.nCoV-2019_2.vcf nCoV-2019_1:sample2.5-63.nCoV-2019_1.vcf\n",
      "\u001b[32m\u001b[22mRunning: \u001b[39m\u001b[22martic_vcf_filter --nanopolish sample2.5-63.merged.vcf sample2.5-63.pass.vcf sample2.5-63.fail.vcf\n",
      "\u001b[32m\u001b[22mRunning: \u001b[39m\u001b[22martic_make_depth_mask --store-rg-depths /media/viro102/HDPH-UT1/CORONA/bioinformatics/software/artic-ncov2019/primer_schemes/nCoV-2019/V3/nCoV-2019.reference.fasta sample2.5-63.primertrimmed.rg.sorted.bam sample2.5-63.coverage_mask.txt\n",
      "\u001b[32m\u001b[22mRunning: \u001b[39m\u001b[22martic_plot_amplicon_depth --primerScheme /media/viro102/HDPH-UT1/CORONA/bioinformatics/software/artic-ncov2019/primer_schemes/nCoV-2019/V3/nCoV-2019.scheme.bed --sampleID sample2.5-63 --outFilePrefix sample2.5-63 sample2.5-63*.depths\n",
      "\u001b[32m\u001b[22mRunning: \u001b[39m\u001b[22mbgzip -f sample2.5-63.pass.vcf\n",
      "\u001b[32m\u001b[22mRunning: \u001b[39m\u001b[22mtabix -p vcf sample2.5-63.pass.vcf.gz\n",
      "\u001b[32m\u001b[22mRunning: \u001b[39m\u001b[22martic_mask /media/viro102/HDPH-UT1/CORONA/bioinformatics/software/artic-ncov2019/primer_schemes/nCoV-2019/V3/nCoV-2019.reference.fasta sample2.5-63.coverage_mask.txt sample2.5-63.fail.vcf sample2.5-63.preconsensus.fasta\n",
      "\u001b[32m\u001b[22mRunning: \u001b[39m\u001b[22mbcftools consensus -f sample2.5-63.preconsensus.fasta sample2.5-63.pass.vcf.gz -m sample2.5-63.coverage_mask.txt -o sample2.5-63.consensus.fasta\n",
      "Note: the --sample option not given, applying all records regardless of the genotype\n",
      "The site MN908947.3:8917 overlaps with another variant, skipping...\n",
      "Applied 17 variants\n",
      "\u001b[32m\u001b[22mRunning: \u001b[39m\u001b[22martic_fasta_header sample2.5-63.consensus.fasta \"sample2.5-63/ARTIC/nanopolish\"\n",
      "\u001b[32m\u001b[22mRunning: \u001b[39m\u001b[22mcat sample2.5-63.consensus.fasta /media/viro102/HDPH-UT1/CORONA/bioinformatics/software/artic-ncov2019/primer_schemes/nCoV-2019/V3/nCoV-2019.reference.fasta > sample2.5-63.muscle.in.fasta\n",
      "\u001b[32m\u001b[22mRunning: \u001b[39m\u001b[22mmuscle -in sample2.5-63.muscle.in.fasta -out sample2.5-63.muscle.out.fasta\n",
      "\n",
      "MUSCLE v3.8.1551 by Robert C. Edgar\n",
      "\n",
      "http://www.drive5.com/muscle\n",
      "This software is donated to the public domain.\n",
      "Please cite: Edgar, R.C. Nucleic Acids Res 32(5), 1792-97.\n",
      "\n",
      "sample2.5-63.muscle.in 2 seqs, lengths min 29830, max 29903, avg 29866\n",
      "00:00:00    20 MB(-1%)  Iter   1  100.00%  K-mer dist pass 1\n",
      "00:00:00    20 MB(-1%)  Iter   1  100.00%  K-mer dist pass 2\n",
      "00:00:26  1001 MB(-67%)  Iter   1  100.00%  Align node      \n",
      "00:00:26  1002 MB(-67%)  Iter   1  100.00%  Root alignment\n",
      "ov2_20201217/filtered/barcode10\u001b[00m$ exit/media/viro102/HDPH-UT1/CORONA/Pilot_SARS_Cov2_20201217/filtered/barcode10\u0007\u001b[01;32mviro102@viro102-Precision-Tower-7810\u001b[00m:\u001b[01;34m/media/viro102/HDPH-UT1/CORONA/Pilot_SARS_Co\n",
      "exit\n",
      "Script done, file is ./log.txt\n"
     ]
    }
   ],
   "source": [
    "%%bash\n",
    "cd /media/viro102/HDPH-UT1/CORONA/Pilot_SARS_Cov2_20201217/filtered/barcode10\n",
    "script ./log.txt\n",
    "artic minion --normalise 200 --threads 12 --scheme-directory /media/viro102/HDPH-UT1/CORONA/bioinformatics/software/artic-ncov2019/primer_schemes --read-file barcode10.fastq  --fast5-directory /media/viro102/HDPH-UT1/CORONA/Pilot_SARS_Cov2_20201217/Pilot_SARS-Cov2_20201217/20201217_0712_MN26707_FAL13903_4c35086e/fast5 --sequencing-summary /media/viro102/HDPH-UT1/CORONA/Pilot_SARS_Cov2_20201217/basecalled/sequencing_summary.txt  nCoV-2019/V3 sample2.5-63\n",
    "exit"
   ]
  },
  {
   "cell_type": "markdown",
   "metadata": {},
   "source": [
    "### 8- What is the breadth of coverage (depth >= 4x) in each sample ? \n"
   ]
  },
  {
   "cell_type": "code",
   "execution_count": 15,
   "metadata": {},
   "outputs": [],
   "source": [
    "import os \n",
    "os.chdir(\"/media/viro102/HDPH-UT1/CORONA/Pilot_SARS_Cov2_20201217/filtered/barcode01\")"
   ]
  },
  {
   "cell_type": "code",
   "execution_count": 16,
   "metadata": {},
   "outputs": [
    {
     "name": "stdout",
     "output_type": "stream",
     "text": [
      "99.5954\n"
     ]
    }
   ],
   "source": [
    "%%bash\n",
    "samtools depth -a sample1.2-61.primertrimmed.rg.sorted.bam | awk '{c++; if($3>0) total+=1}END{print (total/c)*100}'"
   ]
  },
  {
   "cell_type": "code",
   "execution_count": 13,
   "metadata": {},
   "outputs": [],
   "source": [
    "import os \n",
    "os.chdir(\"/media/viro102/HDPH-UT1/CORONA/Pilot_SARS_Cov2_20201217/filtered/barcode02\")"
   ]
  },
  {
   "cell_type": "code",
   "execution_count": 14,
   "metadata": {},
   "outputs": [
    {
     "name": "stdout",
     "output_type": "stream",
     "text": [
      "99.5954\n"
     ]
    }
   ],
   "source": [
    "%%bash\n",
    "samtools depth -a sample1.2-63.primertrimmed.rg.sorted.bam | awk '{c++; if($3>0) total+=1}END{print (total/c)*100}'"
   ]
  },
  {
   "cell_type": "code",
   "execution_count": 18,
   "metadata": {},
   "outputs": [],
   "source": [
    "os.chdir(\"/media/viro102/HDPH-UT1/CORONA/Pilot_SARS_Cov2_20201217/filtered/barcode03\")"
   ]
  },
  {
   "cell_type": "code",
   "execution_count": 19,
   "metadata": {},
   "outputs": [
    {
     "name": "stdout",
     "output_type": "stream",
     "text": [
      "99.4482\n"
     ]
    }
   ],
   "source": [
    "%%bash\n",
    "samtools depth -a sample1.2-65.primertrimmed.rg.sorted.bam | awk '{c++; if($3>0) total+=1}END{print (total/c)*100}'"
   ]
  },
  {
   "cell_type": "code",
   "execution_count": 22,
   "metadata": {},
   "outputs": [],
   "source": [
    "os.chdir(\"/media/viro102/HDPH-UT1/CORONA/Pilot_SARS_Cov2_20201217/filtered/barcode04\")"
   ]
  },
  {
   "cell_type": "code",
   "execution_count": 23,
   "metadata": {},
   "outputs": [
    {
     "name": "stdout",
     "output_type": "stream",
     "text": [
      "99.5954\n"
     ]
    }
   ],
   "source": [
    "%%bash\n",
    "samtools depth -a sample2.2-61.primertrimmed.rg.sorted.bam | awk '{c++; if($3>0) total+=1}END{print (total/c)*100}'"
   ]
  },
  {
   "cell_type": "code",
   "execution_count": 24,
   "metadata": {},
   "outputs": [],
   "source": [
    "os.chdir(\"/media/viro102/HDPH-UT1/CORONA/Pilot_SARS_Cov2_20201217/filtered/barcode05\")"
   ]
  },
  {
   "cell_type": "code",
   "execution_count": 25,
   "metadata": {},
   "outputs": [
    {
     "name": "stdout",
     "output_type": "stream",
     "text": [
      "99.5954\n"
     ]
    }
   ],
   "source": [
    "%%bash\n",
    "samtools depth -a sample2.2-63.primertrimmed.rg.sorted.bam | awk '{c++; if($3>0) total+=1}END{print (total/c)*100}'"
   ]
  },
  {
   "cell_type": "code",
   "execution_count": 26,
   "metadata": {},
   "outputs": [],
   "source": [
    "os.chdir(\"/media/viro102/HDPH-UT1/CORONA/Pilot_SARS_Cov2_20201217/filtered/barcode06\")"
   ]
  },
  {
   "cell_type": "code",
   "execution_count": 27,
   "metadata": {},
   "outputs": [
    {
     "name": "stdout",
     "output_type": "stream",
     "text": [
      "98.6088\n"
     ]
    }
   ],
   "source": [
    "%%bash\n",
    "samtools depth -a sample2.2-65.primertrimmed.rg.sorted.bam | awk '{c++; if($3>0) total+=1}END{print (total/c)*100}'"
   ]
  },
  {
   "cell_type": "code",
   "execution_count": 28,
   "metadata": {},
   "outputs": [],
   "source": [
    "os.chdir(\"/media/viro102/HDPH-UT1/CORONA/Pilot_SARS_Cov2_20201217/filtered/barcode07\")"
   ]
  },
  {
   "cell_type": "code",
   "execution_count": 29,
   "metadata": {},
   "outputs": [
    {
     "name": "stdout",
     "output_type": "stream",
     "text": [
      "99.5954\n"
     ]
    }
   ],
   "source": [
    "%%bash\n",
    "samtools depth -a sample1.1-63.primertrimmed.rg.sorted.bam | awk '{c++; if($3>0) total+=1}END{print (total/c)*100}'"
   ]
  },
  {
   "cell_type": "code",
   "execution_count": 30,
   "metadata": {},
   "outputs": [],
   "source": [
    "os.chdir(\"/media/viro102/HDPH-UT1/CORONA/Pilot_SARS_Cov2_20201217/filtered/barcode08\")"
   ]
  },
  {
   "cell_type": "code",
   "execution_count": 31,
   "metadata": {},
   "outputs": [
    {
     "name": "stdout",
     "output_type": "stream",
     "text": [
      "99.5954\n"
     ]
    }
   ],
   "source": [
    "%%bash\n",
    "samtools depth -a sample1.4-63.primertrimmed.rg.sorted.bam | awk '{c++; if($3>0) total+=1}END{print (total/c)*100}'"
   ]
  },
  {
   "cell_type": "code",
   "execution_count": 36,
   "metadata": {},
   "outputs": [],
   "source": [
    "os.chdir(\"/media/viro102/HDPH-UT1/CORONA/Pilot_SARS_Cov2_20201217/filtered/barcode09\")"
   ]
  },
  {
   "cell_type": "code",
   "execution_count": 37,
   "metadata": {},
   "outputs": [
    {
     "name": "stdout",
     "output_type": "stream",
     "text": [
      "99.5954\n"
     ]
    }
   ],
   "source": [
    "%%bash\n",
    "samtools depth -a sample2.3-63.primertrimmed.rg.sorted.bam | awk '{c++; if($3>0) total+=1}END{print (total/c)*100}'"
   ]
  },
  {
   "cell_type": "code",
   "execution_count": 39,
   "metadata": {},
   "outputs": [],
   "source": [
    "os.chdir(\"/media/viro102/HDPH-UT1/CORONA/Pilot_SARS_Cov2_20201217/filtered/barcode10\")"
   ]
  },
  {
   "cell_type": "code",
   "execution_count": 40,
   "metadata": {},
   "outputs": [
    {
     "name": "stdout",
     "output_type": "stream",
     "text": [
      "99.5786\n"
     ]
    }
   ],
   "source": [
    "%%bash\n",
    "samtools depth -a sample2.5-63.primertrimmed.rg.sorted.bam | awk '{c++; if($3>0) total+=1}END{print (total/c)*100}'"
   ]
  }
 ],
 "metadata": {
  "kernelspec": {
   "display_name": "Python 3",
   "language": "python",
   "name": "python3"
  },
  "language_info": {
   "codemirror_mode": {
    "name": "ipython",
    "version": 3
   },
   "file_extension": ".py",
   "mimetype": "text/x-python",
   "name": "python",
   "nbconvert_exporter": "python",
   "pygments_lexer": "ipython3",
   "version": "3.8.5"
  }
 },
 "nbformat": 4,
 "nbformat_minor": 4
}
